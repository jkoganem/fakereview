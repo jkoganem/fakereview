{
 "cells": [
  {
   "cell_type": "code",
   "execution_count": 1,
   "metadata": {},
   "outputs": [
    {
     "name": "stderr",
     "output_type": "stream",
     "text": [
      "[nltk_data] Downloading package wordnet to\n",
      "[nltk_data]     /Users/ashwintan/nltk_data...\n",
      "[nltk_data]   Package wordnet is already up-to-date!\n"
     ]
    }
   ],
   "source": [
    "import numpy as np\n",
    "import pandas as pd\n",
    "import seaborn as sns\n",
    "import matplotlib.pyplot as plt\n",
    "import warnings\n",
    "warnings.filterwarnings('ignore')\n",
    "from sklearn.feature_extraction.text import TfidfTransformer, CountVectorizer\n",
    "from sklearn.metrics import classification_report, confusion_matrix\n",
    "from sklearn.model_selection import train_test_split\n",
    "import torch\n",
    "import nltk\n",
    "import string\n",
    "from nltk.corpus import stopwords\n",
    "from nltk import word_tokenize\n",
    "from nltk.stem import PorterStemmer\n",
    "from nltk.stem import WordNetLemmatizer\n",
    "nltk.download('wordnet')\n",
    "\n",
    "\n",
    "import os.path\n",
    "\n",
    "from tqdm.autonotebook import tqdm, trange\n"
   ]
  },
  {
   "cell_type": "code",
   "execution_count": 2,
   "metadata": {},
   "outputs": [],
   "source": [
    "df = pd.read_parquet(\"../raw data/combined_data_with_embeddings.parquet\")"
   ]
  },
  {
   "cell_type": "code",
   "execution_count": 3,
   "metadata": {},
   "outputs": [
    {
     "data": {
      "text/html": [
       "<div>\n",
       "<style scoped>\n",
       "    .dataframe tbody tr th:only-of-type {\n",
       "        vertical-align: middle;\n",
       "    }\n",
       "\n",
       "    .dataframe tbody tr th {\n",
       "        vertical-align: top;\n",
       "    }\n",
       "\n",
       "    .dataframe thead th {\n",
       "        text-align: right;\n",
       "    }\n",
       "</style>\n",
       "<table border=\"1\" class=\"dataframe\">\n",
       "  <thead>\n",
       "    <tr style=\"text-align: right;\">\n",
       "      <th></th>\n",
       "      <th>Text</th>\n",
       "      <th>Label</th>\n",
       "      <th>Original dataset</th>\n",
       "      <th>Row in original dataset</th>\n",
       "      <th>embedding</th>\n",
       "    </tr>\n",
       "  </thead>\n",
       "  <tbody>\n",
       "    <tr>\n",
       "      <th>0</th>\n",
       "      <td>The idea of graduating high school in three ye...</td>\n",
       "      <td>Machine</td>\n",
       "      <td>essays</td>\n",
       "      <td>26613</td>\n",
       "      <td>[0.01476596, -0.013095475, 0.002932728, -0.011...</td>\n",
       "    </tr>\n",
       "    <tr>\n",
       "      <th>1</th>\n",
       "      <td>Hey, I'm so excited to write this essay about ...</td>\n",
       "      <td>Machine</td>\n",
       "      <td>essays</td>\n",
       "      <td>26326</td>\n",
       "      <td>[0.00292786, -0.013083563, 0.0047025573, -0.00...</td>\n",
       "    </tr>\n",
       "    <tr>\n",
       "      <th>2</th>\n",
       "      <td>Introduction\\n\\nSelf-reliance is a concept tha...</td>\n",
       "      <td>Machine</td>\n",
       "      <td>essays</td>\n",
       "      <td>30579</td>\n",
       "      <td>[-0.015756093, -0.023221416, -0.010959062, -0....</td>\n",
       "    </tr>\n",
       "    <tr>\n",
       "      <th>3</th>\n",
       "      <td>Sure, here's my attempt at writing an essay as...</td>\n",
       "      <td>Machine</td>\n",
       "      <td>essays</td>\n",
       "      <td>33547</td>\n",
       "      <td>[0.013002162, 0.011017485, -0.03551094, 0.0290...</td>\n",
       "    </tr>\n",
       "    <tr>\n",
       "      <th>4</th>\n",
       "      <td>The legalization of marijuana is a highly deba...</td>\n",
       "      <td>Machine</td>\n",
       "      <td>essays</td>\n",
       "      <td>33768</td>\n",
       "      <td>[0.0016188276, 0.011155421, -0.004596148, 0.00...</td>\n",
       "    </tr>\n",
       "  </tbody>\n",
       "</table>\n",
       "</div>"
      ],
      "text/plain": [
       "                                                Text    Label  \\\n",
       "0  The idea of graduating high school in three ye...  Machine   \n",
       "1  Hey, I'm so excited to write this essay about ...  Machine   \n",
       "2  Introduction\\n\\nSelf-reliance is a concept tha...  Machine   \n",
       "3  Sure, here's my attempt at writing an essay as...  Machine   \n",
       "4  The legalization of marijuana is a highly deba...  Machine   \n",
       "\n",
       "  Original dataset  Row in original dataset  \\\n",
       "0           essays                    26613   \n",
       "1           essays                    26326   \n",
       "2           essays                    30579   \n",
       "3           essays                    33547   \n",
       "4           essays                    33768   \n",
       "\n",
       "                                           embedding  \n",
       "0  [0.01476596, -0.013095475, 0.002932728, -0.011...  \n",
       "1  [0.00292786, -0.013083563, 0.0047025573, -0.00...  \n",
       "2  [-0.015756093, -0.023221416, -0.010959062, -0....  \n",
       "3  [0.013002162, 0.011017485, -0.03551094, 0.0290...  \n",
       "4  [0.0016188276, 0.011155421, -0.004596148, 0.00...  "
      ]
     },
     "execution_count": 3,
     "metadata": {},
     "output_type": "execute_result"
    }
   ],
   "source": [
    "df.head()"
   ]
  },
  {
   "cell_type": "code",
   "execution_count": 4,
   "metadata": {},
   "outputs": [
    {
     "data": {
      "text/plain": [
       "Label\n",
       "Machine    40000\n",
       "Human      40000\n",
       "Name: count, dtype: int64"
      ]
     },
     "execution_count": 4,
     "metadata": {},
     "output_type": "execute_result"
    }
   ],
   "source": [
    "df.Label.value_counts()"
   ]
  },
  {
   "cell_type": "code",
   "execution_count": 5,
   "metadata": {},
   "outputs": [],
   "source": [
    "from sentence_transformers import SentenceTransformer "
   ]
  },
  {
   "cell_type": "code",
   "execution_count": 69,
   "metadata": {},
   "outputs": [],
   "source": [
    "sentence_model = SentenceTransformer(\"thenlper/gte-large\")\n",
    "\n",
    "def get_sentence_embedding(text):\n",
    "    if isinstance(text,str):\n",
    "        if not text.strip(): \n",
    "            print(\"Attempted to get embedding for empty text.\")\n",
    "            return []\n",
    "        \n",
    "        return sentence_model.encode(text)\n",
    "    \n",
    "    elif isinstance(text,list):\n",
    "        return [get_sentence_embedding(x) for x in text]\n",
    "        "
   ]
  },
  {
   "cell_type": "code",
   "execution_count": 18,
   "metadata": {},
   "outputs": [
    {
     "data": {
      "text/plain": [
       "numpy.ndarray"
      ]
     },
     "execution_count": 18,
     "metadata": {},
     "output_type": "execute_result"
    }
   ],
   "source": [
    "text = \"This is a fake review.\"\n",
    "text2 = \"This is not a fake review.\"\n",
    "\n",
    "embedding = get_sentence_embedding(text)\n",
    "type(embedding)"
   ]
  },
  {
   "cell_type": "code",
   "execution_count": 19,
   "metadata": {},
   "outputs": [
    {
     "data": {
      "text/plain": [
       "array([-0.00613883, -0.01058691,  0.00132789, ..., -0.0222865 ,\n",
       "       -0.00615894, -0.02127941], dtype=float32)"
      ]
     },
     "execution_count": 19,
     "metadata": {},
     "output_type": "execute_result"
    }
   ],
   "source": [
    "embedding"
   ]
  },
  {
   "cell_type": "code",
   "execution_count": 20,
   "metadata": {},
   "outputs": [
    {
     "data": {
      "text/plain": [
       "[array([-0.00613883, -0.01058691,  0.00132789, ..., -0.0222865 ,\n",
       "        -0.00615894, -0.02127941], dtype=float32),\n",
       " array([ 0.00717259,  0.00192547, -0.01863514, ..., -0.01114186,\n",
       "         0.01110466, -0.00416853], dtype=float32)]"
      ]
     },
     "execution_count": 20,
     "metadata": {},
     "output_type": "execute_result"
    }
   ],
   "source": [
    "a = [text, text2]\n",
    "get_sentence_embedding(a)"
   ]
  },
  {
   "cell_type": "code",
   "execution_count": 6,
   "metadata": {},
   "outputs": [],
   "source": [
    "train, test = train_test_split(df, test_size=0.2)"
   ]
  },
  {
   "cell_type": "code",
   "execution_count": 7,
   "metadata": {},
   "outputs": [
    {
     "data": {
      "text/html": [
       "<div>\n",
       "<style scoped>\n",
       "    .dataframe tbody tr th:only-of-type {\n",
       "        vertical-align: middle;\n",
       "    }\n",
       "\n",
       "    .dataframe tbody tr th {\n",
       "        vertical-align: top;\n",
       "    }\n",
       "\n",
       "    .dataframe thead th {\n",
       "        text-align: right;\n",
       "    }\n",
       "</style>\n",
       "<table border=\"1\" class=\"dataframe\">\n",
       "  <thead>\n",
       "    <tr style=\"text-align: right;\">\n",
       "      <th></th>\n",
       "      <th>Text</th>\n",
       "      <th>Label</th>\n",
       "      <th>Original dataset</th>\n",
       "      <th>Row in original dataset</th>\n",
       "      <th>embedding</th>\n",
       "    </tr>\n",
       "  </thead>\n",
       "  <tbody>\n",
       "    <tr>\n",
       "      <th>25075</th>\n",
       "      <td>WGN America has acquired the exclusive U.S. ho...</td>\n",
       "      <td>Machine</td>\n",
       "      <td>grover</td>\n",
       "      <td>10235</td>\n",
       "      <td>[0.008065161, 0.00068244926, -0.04635188, 0.00...</td>\n",
       "    </tr>\n",
       "    <tr>\n",
       "      <th>67522</th>\n",
       "      <td>Joseph Bryan Nelson MBE FRSE (14 March 1932 – ...</td>\n",
       "      <td>Human</td>\n",
       "      <td>wiki</td>\n",
       "      <td>89287</td>\n",
       "      <td>[-0.01591434, 0.010300461, -0.0018833067, 0.00...</td>\n",
       "    </tr>\n",
       "    <tr>\n",
       "      <th>44480</th>\n",
       "      <td>This was a beautiful movie.  I love the movie....</td>\n",
       "      <td>Machine</td>\n",
       "      <td>reviews</td>\n",
       "      <td>15163</td>\n",
       "      <td>[0.02572593, -0.013680295, -0.012741473, -0.00...</td>\n",
       "    </tr>\n",
       "    <tr>\n",
       "      <th>53199</th>\n",
       "      <td>This is a slim case designed for all models of...</td>\n",
       "      <td>Human</td>\n",
       "      <td>reviews</td>\n",
       "      <td>9756</td>\n",
       "      <td>[-0.02133946, 0.0022242079, -0.0017145402, -0....</td>\n",
       "    </tr>\n",
       "    <tr>\n",
       "      <th>69006</th>\n",
       "      <td>The Alliance Tire Company (Pvt.) Ltd. is a tir...</td>\n",
       "      <td>Human</td>\n",
       "      <td>wiki</td>\n",
       "      <td>47664</td>\n",
       "      <td>[-0.032117695, 0.002097214, -0.020527093, 0.02...</td>\n",
       "    </tr>\n",
       "  </tbody>\n",
       "</table>\n",
       "</div>"
      ],
      "text/plain": [
       "                                                    Text    Label  \\\n",
       "25075  WGN America has acquired the exclusive U.S. ho...  Machine   \n",
       "67522  Joseph Bryan Nelson MBE FRSE (14 March 1932 – ...    Human   \n",
       "44480  This was a beautiful movie.  I love the movie....  Machine   \n",
       "53199  This is a slim case designed for all models of...    Human   \n",
       "69006  The Alliance Tire Company (Pvt.) Ltd. is a tir...    Human   \n",
       "\n",
       "      Original dataset  Row in original dataset  \\\n",
       "25075           grover                    10235   \n",
       "67522             wiki                    89287   \n",
       "44480          reviews                    15163   \n",
       "53199          reviews                     9756   \n",
       "69006             wiki                    47664   \n",
       "\n",
       "                                               embedding  \n",
       "25075  [0.008065161, 0.00068244926, -0.04635188, 0.00...  \n",
       "67522  [-0.01591434, 0.010300461, -0.0018833067, 0.00...  \n",
       "44480  [0.02572593, -0.013680295, -0.012741473, -0.00...  \n",
       "53199  [-0.02133946, 0.0022242079, -0.0017145402, -0....  \n",
       "69006  [-0.032117695, 0.002097214, -0.020527093, 0.02...  "
      ]
     },
     "execution_count": 7,
     "metadata": {},
     "output_type": "execute_result"
    }
   ],
   "source": [
    "train.head()"
   ]
  },
  {
   "cell_type": "code",
   "execution_count": 8,
   "metadata": {},
   "outputs": [
    {
     "data": {
      "text/plain": [
       "array([ 0.01476596, -0.01309547,  0.00293273, ..., -0.00282018,\n",
       "        0.02586309, -0.00610633], dtype=float32)"
      ]
     },
     "execution_count": 8,
     "metadata": {},
     "output_type": "execute_result"
    }
   ],
   "source": [
    "train.embedding[0]"
   ]
  },
  {
   "cell_type": "code",
   "execution_count": 9,
   "metadata": {},
   "outputs": [],
   "source": [
    "X_train = np.vstack(train.embedding.apply(lambda x: np.asarray(x).flatten()))\n",
    "X_test = np.vstack(test.embedding.apply(lambda x: np.asarray(x).flatten()))"
   ]
  },
  {
   "cell_type": "code",
   "execution_count": 10,
   "metadata": {},
   "outputs": [],
   "source": [
    "from sklearn.svm import SVC\n",
    "clf = SVC(kernel='linear')"
   ]
  },
  {
   "cell_type": "code",
   "execution_count": 11,
   "metadata": {},
   "outputs": [],
   "source": [
    "clf.fit(X_train, train.Label)"
   ]
  },
  {
   "cell_type": "code",
   "execution_count": 44,
   "metadata": {},
   "outputs": [],
   "source": [
    "preds = clf.predict(X_test)"
   ]
  },
  {
   "cell_type": "code",
   "execution_count": 45,
   "metadata": {},
   "outputs": [
    {
     "data": {
      "text/plain": [
       "array(['Human', 'Machine', 'Machine', 'Human', 'Human', 'Machine',\n",
       "       'Human', 'Human', 'Human', 'Machine', 'Human', 'Human', 'Human',\n",
       "       'Human', 'Human', 'Human', 'Machine', 'Human', 'Machine',\n",
       "       'Machine', 'Human', 'Machine', 'Machine', 'Machine', 'Machine',\n",
       "       'Human', 'Machine', 'Machine', 'Machine', 'Human', 'Human',\n",
       "       'Machine', 'Machine', 'Machine', 'Machine', 'Human', 'Human',\n",
       "       'Machine', 'Machine', 'Machine', 'Human', 'Human', 'Human',\n",
       "       'Machine', 'Human', 'Human', 'Human', 'Machine', 'Human',\n",
       "       'Machine', 'Human', 'Machine', 'Human', 'Human', 'Machine',\n",
       "       'Machine', 'Machine', 'Human', 'Human', 'Machine', 'Machine',\n",
       "       'Machine', 'Machine', 'Human', 'Human', 'Human', 'Human', 'Human',\n",
       "       'Human', 'Machine', 'Machine', 'Human', 'Machine', 'Machine',\n",
       "       'Machine', 'Machine', 'Machine', 'Machine', 'Human', 'Machine',\n",
       "       'Machine', 'Human', 'Machine', 'Machine', 'Machine', 'Human',\n",
       "       'Machine', 'Human', 'Machine', 'Machine', 'Human', 'Machine',\n",
       "       'Machine', 'Machine', 'Machine', 'Machine', 'Machine', 'Machine',\n",
       "       'Machine', 'Human'], dtype=object)"
      ]
     },
     "execution_count": 45,
     "metadata": {},
     "output_type": "execute_result"
    }
   ],
   "source": [
    "preds"
   ]
  },
  {
   "cell_type": "code",
   "execution_count": 46,
   "metadata": {},
   "outputs": [
    {
     "data": {
      "text/plain": [
       "array([[26, 22],\n",
       "       [18, 34]])"
      ]
     },
     "execution_count": 46,
     "metadata": {},
     "output_type": "execute_result"
    }
   ],
   "source": [
    "confusion_matrix(test.Label, preds)"
   ]
  },
  {
   "cell_type": "code",
   "execution_count": 48,
   "metadata": {},
   "outputs": [],
   "source": [
    "from sklearn.metrics import accuracy_score"
   ]
  },
  {
   "cell_type": "code",
   "execution_count": 50,
   "metadata": {},
   "outputs": [
    {
     "data": {
      "text/plain": [
       "0.6"
      ]
     },
     "execution_count": 50,
     "metadata": {},
     "output_type": "execute_result"
    }
   ],
   "source": [
    "accuracy_score(test.Label, preds)"
   ]
  }
 ],
 "metadata": {
  "kernelspec": {
   "display_name": "base",
   "language": "python",
   "name": "python3"
  },
  "language_info": {
   "codemirror_mode": {
    "name": "ipython",
    "version": 3
   },
   "file_extension": ".py",
   "mimetype": "text/x-python",
   "name": "python",
   "nbconvert_exporter": "python",
   "pygments_lexer": "ipython3",
   "version": "3.11.8"
  }
 },
 "nbformat": 4,
 "nbformat_minor": 2
}
