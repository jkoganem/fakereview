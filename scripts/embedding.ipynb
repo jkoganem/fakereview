{
 "cells": [
  {
   "cell_type": "code",
   "execution_count": 1,
   "metadata": {},
   "outputs": [
    {
     "name": "stderr",
     "output_type": "stream",
     "text": [
      "/var/folders/xn/5_bv95hd63q1174827crqlfm0000gn/T/ipykernel_74163/3444334441.py:7: TqdmExperimentalWarning: Using `tqdm.autonotebook.tqdm` in notebook mode. Use `tqdm.tqdm` instead to force console mode (e.g. in jupyter console)\n",
      "  from tqdm.autonotebook import tqdm, trange\n"
     ]
    }
   ],
   "source": [
    "import numpy as np\n",
    "import pandas as pd\n",
    "import torch\n",
    "import nltk\n",
    "import os.path\n",
    "\n",
    "from tqdm.autonotebook import tqdm, trange\n",
    "from sentence_transformers import SentenceTransformer "
   ]
  },
  {
   "cell_type": "code",
   "execution_count": 9,
   "metadata": {},
   "outputs": [
    {
     "name": "stderr",
     "output_type": "stream",
     "text": [
      "/opt/miniconda3/lib/python3.12/site-packages/huggingface_hub/file_download.py:1132: FutureWarning: `resume_download` is deprecated and will be removed in version 1.0.0. Downloads always resume when possible. If you want to force a new download, use `force_download=True`.\n",
      "  warnings.warn(\n"
     ]
    }
   ],
   "source": [
    "sentence_model = SentenceTransformer(\"thenlper/gte-large\")\n",
    "\n",
    "def get_sentence_embedding(text):\n",
    "    if isinstance(text,str):\n",
    "        if not text.strip(): \n",
    "            print(\"Attempted to get embedding for empty text.\")\n",
    "            return []\n",
    "        \n",
    "        return sentence_model.encode(text)\n",
    "    \n",
    "    elif isinstance(text,list):\n",
    "        return [get_sentence_embedding(x) for x in text]\n",
    "        "
   ]
  },
  {
   "cell_type": "code",
   "execution_count": 3,
   "metadata": {},
   "outputs": [
    {
     "data": {
      "text/plain": [
       "numpy.ndarray"
      ]
     },
     "execution_count": 3,
     "metadata": {},
     "output_type": "execute_result"
    }
   ],
   "source": [
    "text = \"This is a fake review.\"\n",
    "text2 = \"This is not a fake review.\"\n",
    "\n",
    "embedding = get_sentence_embedding(text)\n",
    "type(embedding)"
   ]
  },
  {
   "cell_type": "code",
   "execution_count": 4,
   "metadata": {},
   "outputs": [
    {
     "data": {
      "text/plain": [
       "array([-0.00613883, -0.01058691,  0.00132789, ..., -0.02228651,\n",
       "       -0.00615894, -0.02127941], dtype=float32)"
      ]
     },
     "execution_count": 4,
     "metadata": {},
     "output_type": "execute_result"
    }
   ],
   "source": [
    "embedding"
   ]
  },
  {
   "cell_type": "code",
   "execution_count": 5,
   "metadata": {},
   "outputs": [
    {
     "data": {
      "text/plain": [
       "[array([-0.00613883, -0.01058691,  0.00132789, ..., -0.02228651,\n",
       "        -0.00615894, -0.02127941], dtype=float32),\n",
       " array([ 0.00717256,  0.00192549, -0.01863514, ..., -0.01114187,\n",
       "         0.01110463, -0.00416854], dtype=float32)]"
      ]
     },
     "execution_count": 5,
     "metadata": {},
     "output_type": "execute_result"
    }
   ],
   "source": [
    "a = [text, text2]\n",
    "get_sentence_embedding(a)"
   ]
  },
  {
   "cell_type": "code",
   "execution_count": 7,
   "metadata": {},
   "outputs": [],
   "source": [
    "df = pd.read_csv(\"../raw data/combined_data.csv\")"
   ]
  },
  {
   "cell_type": "code",
   "execution_count": 8,
   "metadata": {},
   "outputs": [
    {
     "data": {
      "text/html": [
       "<div>\n",
       "<style scoped>\n",
       "    .dataframe tbody tr th:only-of-type {\n",
       "        vertical-align: middle;\n",
       "    }\n",
       "\n",
       "    .dataframe tbody tr th {\n",
       "        vertical-align: top;\n",
       "    }\n",
       "\n",
       "    .dataframe thead th {\n",
       "        text-align: right;\n",
       "    }\n",
       "</style>\n",
       "<table border=\"1\" class=\"dataframe\">\n",
       "  <thead>\n",
       "    <tr style=\"text-align: right;\">\n",
       "      <th></th>\n",
       "      <th>Text</th>\n",
       "      <th>Label</th>\n",
       "      <th>Original dataset</th>\n",
       "      <th>Row in original dataset</th>\n",
       "    </tr>\n",
       "  </thead>\n",
       "  <tbody>\n",
       "    <tr>\n",
       "      <th>0</th>\n",
       "      <td>The idea of graduating high school in three ye...</td>\n",
       "      <td>Machine</td>\n",
       "      <td>essays</td>\n",
       "      <td>26613</td>\n",
       "    </tr>\n",
       "    <tr>\n",
       "      <th>1</th>\n",
       "      <td>Hey, I'm so excited to write this essay about ...</td>\n",
       "      <td>Machine</td>\n",
       "      <td>essays</td>\n",
       "      <td>26326</td>\n",
       "    </tr>\n",
       "    <tr>\n",
       "      <th>2</th>\n",
       "      <td>Introduction\\n\\nSelf-reliance is a concept tha...</td>\n",
       "      <td>Machine</td>\n",
       "      <td>essays</td>\n",
       "      <td>30579</td>\n",
       "    </tr>\n",
       "    <tr>\n",
       "      <th>3</th>\n",
       "      <td>Sure, here's my attempt at writing an essay as...</td>\n",
       "      <td>Machine</td>\n",
       "      <td>essays</td>\n",
       "      <td>33547</td>\n",
       "    </tr>\n",
       "    <tr>\n",
       "      <th>4</th>\n",
       "      <td>The legalization of marijuana is a highly deba...</td>\n",
       "      <td>Machine</td>\n",
       "      <td>essays</td>\n",
       "      <td>33768</td>\n",
       "    </tr>\n",
       "  </tbody>\n",
       "</table>\n",
       "</div>"
      ],
      "text/plain": [
       "                                                Text    Label  \\\n",
       "0  The idea of graduating high school in three ye...  Machine   \n",
       "1  Hey, I'm so excited to write this essay about ...  Machine   \n",
       "2  Introduction\\n\\nSelf-reliance is a concept tha...  Machine   \n",
       "3  Sure, here's my attempt at writing an essay as...  Machine   \n",
       "4  The legalization of marijuana is a highly deba...  Machine   \n",
       "\n",
       "  Original dataset  Row in original dataset  \n",
       "0           essays                    26613  \n",
       "1           essays                    26326  \n",
       "2           essays                    30579  \n",
       "3           essays                    33547  \n",
       "4           essays                    33768  "
      ]
     },
     "execution_count": 8,
     "metadata": {},
     "output_type": "execute_result"
    }
   ],
   "source": [
    "df.head()"
   ]
  },
  {
   "cell_type": "code",
   "execution_count": 11,
   "metadata": {},
   "outputs": [
    {
     "data": {
      "application/vnd.jupyter.widget-view+json": {
       "model_id": "cee5ff95301c4437971f1e02bf0323b4",
       "version_major": 2,
       "version_minor": 0
      },
      "text/plain": [
       "  0%|          | 0/80000 [00:00<?, ?it/s]"
      ]
     },
     "metadata": {},
     "output_type": "display_data"
    }
   ],
   "source": [
    "tqdm.pandas()\n",
    "df['embedding'] = df['Text'].progress_apply(get_sentence_embedding)"
   ]
  },
  {
   "cell_type": "code",
   "execution_count": 12,
   "metadata": {},
   "outputs": [
    {
     "data": {
      "text/html": [
       "<div>\n",
       "<style scoped>\n",
       "    .dataframe tbody tr th:only-of-type {\n",
       "        vertical-align: middle;\n",
       "    }\n",
       "\n",
       "    .dataframe tbody tr th {\n",
       "        vertical-align: top;\n",
       "    }\n",
       "\n",
       "    .dataframe thead th {\n",
       "        text-align: right;\n",
       "    }\n",
       "</style>\n",
       "<table border=\"1\" class=\"dataframe\">\n",
       "  <thead>\n",
       "    <tr style=\"text-align: right;\">\n",
       "      <th></th>\n",
       "      <th>Text</th>\n",
       "      <th>Label</th>\n",
       "      <th>Original dataset</th>\n",
       "      <th>Row in original dataset</th>\n",
       "      <th>embedding</th>\n",
       "    </tr>\n",
       "  </thead>\n",
       "  <tbody>\n",
       "    <tr>\n",
       "      <th>0</th>\n",
       "      <td>The idea of graduating high school in three ye...</td>\n",
       "      <td>Machine</td>\n",
       "      <td>essays</td>\n",
       "      <td>26613</td>\n",
       "      <td>[0.01476596, -0.013095475, 0.002932728, -0.011...</td>\n",
       "    </tr>\n",
       "    <tr>\n",
       "      <th>1</th>\n",
       "      <td>Hey, I'm so excited to write this essay about ...</td>\n",
       "      <td>Machine</td>\n",
       "      <td>essays</td>\n",
       "      <td>26326</td>\n",
       "      <td>[0.00292786, -0.013083563, 0.0047025573, -0.00...</td>\n",
       "    </tr>\n",
       "    <tr>\n",
       "      <th>2</th>\n",
       "      <td>Introduction\\n\\nSelf-reliance is a concept tha...</td>\n",
       "      <td>Machine</td>\n",
       "      <td>essays</td>\n",
       "      <td>30579</td>\n",
       "      <td>[-0.015756093, -0.023221416, -0.010959062, -0....</td>\n",
       "    </tr>\n",
       "    <tr>\n",
       "      <th>3</th>\n",
       "      <td>Sure, here's my attempt at writing an essay as...</td>\n",
       "      <td>Machine</td>\n",
       "      <td>essays</td>\n",
       "      <td>33547</td>\n",
       "      <td>[0.013002162, 0.011017485, -0.03551094, 0.0290...</td>\n",
       "    </tr>\n",
       "    <tr>\n",
       "      <th>4</th>\n",
       "      <td>The legalization of marijuana is a highly deba...</td>\n",
       "      <td>Machine</td>\n",
       "      <td>essays</td>\n",
       "      <td>33768</td>\n",
       "      <td>[0.0016188276, 0.011155421, -0.004596148, 0.00...</td>\n",
       "    </tr>\n",
       "  </tbody>\n",
       "</table>\n",
       "</div>"
      ],
      "text/plain": [
       "                                                Text    Label  \\\n",
       "0  The idea of graduating high school in three ye...  Machine   \n",
       "1  Hey, I'm so excited to write this essay about ...  Machine   \n",
       "2  Introduction\\n\\nSelf-reliance is a concept tha...  Machine   \n",
       "3  Sure, here's my attempt at writing an essay as...  Machine   \n",
       "4  The legalization of marijuana is a highly deba...  Machine   \n",
       "\n",
       "  Original dataset  Row in original dataset  \\\n",
       "0           essays                    26613   \n",
       "1           essays                    26326   \n",
       "2           essays                    30579   \n",
       "3           essays                    33547   \n",
       "4           essays                    33768   \n",
       "\n",
       "                                           embedding  \n",
       "0  [0.01476596, -0.013095475, 0.002932728, -0.011...  \n",
       "1  [0.00292786, -0.013083563, 0.0047025573, -0.00...  \n",
       "2  [-0.015756093, -0.023221416, -0.010959062, -0....  \n",
       "3  [0.013002162, 0.011017485, -0.03551094, 0.0290...  \n",
       "4  [0.0016188276, 0.011155421, -0.004596148, 0.00...  "
      ]
     },
     "execution_count": 12,
     "metadata": {},
     "output_type": "execute_result"
    }
   ],
   "source": [
    "df.head()"
   ]
  },
  {
   "cell_type": "code",
   "execution_count": 13,
   "metadata": {},
   "outputs": [],
   "source": [
    "df.to_csv('combined_data_with_embeddings.csv')"
   ]
  },
  {
   "cell_type": "code",
   "execution_count": 14,
   "metadata": {},
   "outputs": [],
   "source": [
    "embeddings = df['embedding']"
   ]
  },
  {
   "cell_type": "code",
   "execution_count": 15,
   "metadata": {},
   "outputs": [
    {
     "data": {
      "text/plain": [
       "0        1024\n",
       "1        1024\n",
       "2        1024\n",
       "3        1024\n",
       "4        1024\n",
       "         ... \n",
       "79995    1024\n",
       "79996    1024\n",
       "79997    1024\n",
       "79998    1024\n",
       "79999    1024\n",
       "Name: embedding, Length: 80000, dtype: int64"
      ]
     },
     "execution_count": 15,
     "metadata": {},
     "output_type": "execute_result"
    }
   ],
   "source": [
    "df['embedding'].apply(lambda a : len(a))"
   ]
  },
  {
   "cell_type": "code",
   "execution_count": 16,
   "metadata": {},
   "outputs": [
    {
     "name": "stdout",
     "output_type": "stream",
     "text": [
      "512\n"
     ]
    }
   ],
   "source": [
    "print(sentence_model.max_seq_length)"
   ]
  },
  {
   "cell_type": "code",
   "execution_count": null,
   "metadata": {},
   "outputs": [],
   "source": []
  }
 ],
 "metadata": {
  "kernelspec": {
   "display_name": "Python 3 (ipykernel)",
   "language": "python",
   "name": "python3"
  },
  "language_info": {
   "codemirror_mode": {
    "name": "ipython",
    "version": 3
   },
   "file_extension": ".py",
   "mimetype": "text/x-python",
   "name": "python",
   "nbconvert_exporter": "python",
   "pygments_lexer": "ipython3",
   "version": "3.11.8"
  }
 },
 "nbformat": 4,
 "nbformat_minor": 4
}
