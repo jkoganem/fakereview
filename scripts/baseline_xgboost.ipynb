{
 "cells": [
  {
   "cell_type": "code",
   "execution_count": 1,
   "id": "464e07bb-7e5e-4d26-82ff-1722f814d091",
   "metadata": {},
   "outputs": [],
   "source": [
    "## For data handling\n",
    "import pandas as pd\n",
    "import numpy as np\n",
    "import xgboost\n",
    "from sklearn.model_selection import train_test_split, StratifiedKFold\n",
    "from tqdm.notebook import tqdm\n",
    "\n",
    "## For plotting\n",
    "import matplotlib.pyplot as plt\n",
    "from seaborn import set_style\n",
    "set_style(\"whitegrid\")"
   ]
  },
  {
   "cell_type": "code",
   "execution_count": 2,
   "id": "a6b621b3-feac-40d5-b2e7-076d00343057",
   "metadata": {},
   "outputs": [],
   "source": [
    "# Import our data\n",
    "#data = pd.read_parquet(\"./combined_data_with_embeddings.parquet\")\n",
    "data = pd.read_parquet(\"../raw data/combined_data_with_embeddings.parquet\")"
   ]
  },
  {
   "cell_type": "code",
   "execution_count": 3,
   "id": "9bbf6e61-bed1-4585-b46a-4f58fbbb52f6",
   "metadata": {},
   "outputs": [
    {
     "data": {
      "text/html": [
       "<div>\n",
       "<style scoped>\n",
       "    .dataframe tbody tr th:only-of-type {\n",
       "        vertical-align: middle;\n",
       "    }\n",
       "\n",
       "    .dataframe tbody tr th {\n",
       "        vertical-align: top;\n",
       "    }\n",
       "\n",
       "    .dataframe thead th {\n",
       "        text-align: right;\n",
       "    }\n",
       "</style>\n",
       "<table border=\"1\" class=\"dataframe\">\n",
       "  <thead>\n",
       "    <tr style=\"text-align: right;\">\n",
       "      <th></th>\n",
       "      <th>Text</th>\n",
       "      <th>Label</th>\n",
       "      <th>Original dataset</th>\n",
       "      <th>Row in original dataset</th>\n",
       "      <th>embedding</th>\n",
       "    </tr>\n",
       "  </thead>\n",
       "  <tbody>\n",
       "    <tr>\n",
       "      <th>0</th>\n",
       "      <td>The idea of graduating high school in three ye...</td>\n",
       "      <td>Machine</td>\n",
       "      <td>essays</td>\n",
       "      <td>26613</td>\n",
       "      <td>[0.01476596, -0.013095475, 0.002932728, -0.011...</td>\n",
       "    </tr>\n",
       "    <tr>\n",
       "      <th>1</th>\n",
       "      <td>Hey, I'm so excited to write this essay about ...</td>\n",
       "      <td>Machine</td>\n",
       "      <td>essays</td>\n",
       "      <td>26326</td>\n",
       "      <td>[0.00292786, -0.013083563, 0.0047025573, -0.00...</td>\n",
       "    </tr>\n",
       "    <tr>\n",
       "      <th>2</th>\n",
       "      <td>Introduction\\n\\nSelf-reliance is a concept tha...</td>\n",
       "      <td>Machine</td>\n",
       "      <td>essays</td>\n",
       "      <td>30579</td>\n",
       "      <td>[-0.015756093, -0.023221416, -0.010959062, -0....</td>\n",
       "    </tr>\n",
       "    <tr>\n",
       "      <th>3</th>\n",
       "      <td>Sure, here's my attempt at writing an essay as...</td>\n",
       "      <td>Machine</td>\n",
       "      <td>essays</td>\n",
       "      <td>33547</td>\n",
       "      <td>[0.013002162, 0.011017485, -0.03551094, 0.0290...</td>\n",
       "    </tr>\n",
       "    <tr>\n",
       "      <th>4</th>\n",
       "      <td>The legalization of marijuana is a highly deba...</td>\n",
       "      <td>Machine</td>\n",
       "      <td>essays</td>\n",
       "      <td>33768</td>\n",
       "      <td>[0.0016188276, 0.011155421, -0.004596148, 0.00...</td>\n",
       "    </tr>\n",
       "    <tr>\n",
       "      <th>...</th>\n",
       "      <td>...</td>\n",
       "      <td>...</td>\n",
       "      <td>...</td>\n",
       "      <td>...</td>\n",
       "      <td>...</td>\n",
       "    </tr>\n",
       "    <tr>\n",
       "      <th>79995</th>\n",
       "      <td>The 1934 WANFL season was the 50th season of t...</td>\n",
       "      <td>Machine</td>\n",
       "      <td>wiki</td>\n",
       "      <td>116735</td>\n",
       "      <td>[-0.02375175, 0.0018231793, -0.023106767, 0.02...</td>\n",
       "    </tr>\n",
       "    <tr>\n",
       "      <th>79996</th>\n",
       "      <td>The Salle du Bel-Air or Salle du Bel-Air is a ...</td>\n",
       "      <td>Machine</td>\n",
       "      <td>wiki</td>\n",
       "      <td>101963</td>\n",
       "      <td>[-0.028311426, -0.008757826, -0.0125656165, 0....</td>\n",
       "    </tr>\n",
       "    <tr>\n",
       "      <th>79997</th>\n",
       "      <td>Jasmine Ser Xiang Wei (born 24 September 1987)...</td>\n",
       "      <td>Machine</td>\n",
       "      <td>wiki</td>\n",
       "      <td>92244</td>\n",
       "      <td>[-0.0002513304, 0.004520807, -0.0046105087, -0...</td>\n",
       "    </tr>\n",
       "    <tr>\n",
       "      <th>79998</th>\n",
       "      <td>The Nantuo 181 class tug is a Chinese diesel-e...</td>\n",
       "      <td>Machine</td>\n",
       "      <td>wiki</td>\n",
       "      <td>84183</td>\n",
       "      <td>[-0.017250419, -0.012810612, -0.02905077, -0.0...</td>\n",
       "    </tr>\n",
       "    <tr>\n",
       "      <th>79999</th>\n",
       "      <td>Air Commodore Cathcart Michael Wight-Boycott, ...</td>\n",
       "      <td>Machine</td>\n",
       "      <td>wiki</td>\n",
       "      <td>130060</td>\n",
       "      <td>[-0.019942297, -0.02230014, -0.029758524, 0.00...</td>\n",
       "    </tr>\n",
       "  </tbody>\n",
       "</table>\n",
       "<p>80000 rows × 5 columns</p>\n",
       "</div>"
      ],
      "text/plain": [
       "                                                    Text    Label  \\\n",
       "0      The idea of graduating high school in three ye...  Machine   \n",
       "1      Hey, I'm so excited to write this essay about ...  Machine   \n",
       "2      Introduction\\n\\nSelf-reliance is a concept tha...  Machine   \n",
       "3      Sure, here's my attempt at writing an essay as...  Machine   \n",
       "4      The legalization of marijuana is a highly deba...  Machine   \n",
       "...                                                  ...      ...   \n",
       "79995  The 1934 WANFL season was the 50th season of t...  Machine   \n",
       "79996  The Salle du Bel-Air or Salle du Bel-Air is a ...  Machine   \n",
       "79997  Jasmine Ser Xiang Wei (born 24 September 1987)...  Machine   \n",
       "79998  The Nantuo 181 class tug is a Chinese diesel-e...  Machine   \n",
       "79999  Air Commodore Cathcart Michael Wight-Boycott, ...  Machine   \n",
       "\n",
       "      Original dataset  Row in original dataset  \\\n",
       "0               essays                    26613   \n",
       "1               essays                    26326   \n",
       "2               essays                    30579   \n",
       "3               essays                    33547   \n",
       "4               essays                    33768   \n",
       "...                ...                      ...   \n",
       "79995             wiki                   116735   \n",
       "79996             wiki                   101963   \n",
       "79997             wiki                    92244   \n",
       "79998             wiki                    84183   \n",
       "79999             wiki                   130060   \n",
       "\n",
       "                                               embedding  \n",
       "0      [0.01476596, -0.013095475, 0.002932728, -0.011...  \n",
       "1      [0.00292786, -0.013083563, 0.0047025573, -0.00...  \n",
       "2      [-0.015756093, -0.023221416, -0.010959062, -0....  \n",
       "3      [0.013002162, 0.011017485, -0.03551094, 0.0290...  \n",
       "4      [0.0016188276, 0.011155421, -0.004596148, 0.00...  \n",
       "...                                                  ...  \n",
       "79995  [-0.02375175, 0.0018231793, -0.023106767, 0.02...  \n",
       "79996  [-0.028311426, -0.008757826, -0.0125656165, 0....  \n",
       "79997  [-0.0002513304, 0.004520807, -0.0046105087, -0...  \n",
       "79998  [-0.017250419, -0.012810612, -0.02905077, -0.0...  \n",
       "79999  [-0.019942297, -0.02230014, -0.029758524, 0.00...  \n",
       "\n",
       "[80000 rows x 5 columns]"
      ]
     },
     "execution_count": 3,
     "metadata": {},
     "output_type": "execute_result"
    }
   ],
   "source": [
    "data"
   ]
  },
  {
   "cell_type": "code",
   "execution_count": 4,
   "id": "c14412c4-b656-4e94-addd-3e733aaa4fb7",
   "metadata": {},
   "outputs": [],
   "source": [
    "# Put embedding coords into separate columns for ease of fitting below\n",
    "data = pd.concat([data, pd.DataFrame(np.array(data['embedding'].to_list()))], axis = 1)"
   ]
  },
  {
   "cell_type": "code",
   "execution_count": 5,
   "id": "b09ba389-62c6-4b8d-8f96-20b97c5bb7c5",
   "metadata": {},
   "outputs": [],
   "source": [
    "# Set integer labels\n",
    "# Human = 0, 1 = Machine\n",
    "data['Label'] = data['Label'].apply(lambda x: 0 if x == 'Human' else 1)"
   ]
  },
  {
   "cell_type": "code",
   "execution_count": 6,
   "id": "a05700ff-0130-47ce-82d7-43c008b0c852",
   "metadata": {},
   "outputs": [],
   "source": [
    "# Train / test split stratified by label and original dataset\n",
    "data['Label + Dataset'] = data.apply(lambda x:str(x['Label']) + \"_\" + x['Original dataset'], axis = 1) \n",
    "train, test = train_test_split(data, \n",
    "                               stratify = data['Label + Dataset'],\n",
    "                               random_state = 406,\n",
    "                              train_size = 0.8)"
   ]
  },
  {
   "cell_type": "code",
   "execution_count": 7,
   "id": "8cede429-d43e-4156-9609-861d1128f9ae",
   "metadata": {},
   "outputs": [],
   "source": [
    "# Metrics\n",
    "from sklearn.metrics import accuracy_score as acc\n",
    "from sklearn.metrics import confusion_matrix"
   ]
  },
  {
   "cell_type": "code",
   "execution_count": 18,
   "id": "7c85f4da-2e5a-4f06-bc3b-4752a8833edc",
   "metadata": {},
   "outputs": [
    {
     "name": "stdout",
     "output_type": "stream",
     "text": [
      "Fitting fold 0\n",
      "Predicting fold 0\n",
      "Fitting fold 1\n",
      "Predicting fold 1\n",
      "Fitting fold 2\n",
      "Predicting fold 2\n",
      "Fitting fold 3\n",
      "Predicting fold 3\n",
      "Fitting fold 4\n",
      "Predicting fold 4\n",
      "Final accuracy scores for each fold:\n",
      "[0.72015625, 0.716171875, 0.717109375, 0.72359375, 0.716328125]\n"
     ]
    }
   ],
   "source": [
    "# 5-fold cross validation, stratified by label and original dataset\n",
    "kfold = StratifiedKFold(n_splits = 5,\n",
    "                        shuffle = True,\n",
    "                        random_state = 406)\n",
    "\n",
    "acc_scores = []\n",
    "\n",
    "for fold, (t_index, v_index) in enumerate(kfold.split(train, train['Label + Dataset'])):\n",
    "    # Get training x and labels, and validation x and labels\n",
    "    tt_x = (train.iloc[t_index]).loc[:, 0:1023]\n",
    "    tt_y = (train.iloc[t_index])['Label']\n",
    "    vv_x = (train.iloc[v_index]).loc[:, 0:1023]\n",
    "    vv_y = (train.iloc[v_index])['Label']\n",
    "    print(f\"Fitting fold {fold}\")\n",
    "    xgb = xgboost.XGBClassifier()\n",
    "    xgb.fit(tt_x.values, tt_y.values.reshape(-1,1))\n",
    "    print(f\"Predicting fold {fold}\")\n",
    "    pred = xgb.predict(vv_x)\n",
    "    acc_scores += [acc(vv_y.values.reshape(-1,1), pred)]\n",
    "\n",
    "print(\"Final accuracy scores for each fold:\")\n",
    "print(acc_scores)"
   ]
  },
  {
   "cell_type": "code",
   "execution_count": 9,
   "id": "d4c7b786-4f4f-455d-a1fa-4d019bbc4da0",
   "metadata": {},
   "outputs": [
    {
     "name": "stdout",
     "output_type": "stream",
     "text": [
      "Accuracy: 0.72484375\n"
     ]
    }
   ],
   "source": [
    "# xgboost out-of-the-box on full training data\n",
    "tt, vv = train_test_split(train,\n",
    "                          stratify = train['Label + Dataset'],\n",
    "                          train_size = 0.8,\n",
    "                          random_state = 406)\n",
    "tt_x = tt.loc[:, 0:1023]\n",
    "tt_y = tt['Label']\n",
    "vv_x = vv.loc[:, 0:1023]\n",
    "vv_y = vv['Label']\n",
    "xgb = xgboost.XGBClassifier()\n",
    "xgb.fit(tt_x.values, tt_y.values.reshape(-1,1))\n",
    "pred = xgb.predict(vv_x)\n",
    "print(f\"Accuracy: {acc(vv_y.values.reshape(-1,1), pred)}\")"
   ]
  },
  {
   "cell_type": "code",
   "execution_count": 11,
   "id": "cc8c271c-24c8-4e52-b982-df8793a93bfb",
   "metadata": {},
   "outputs": [
    {
     "name": "stdout",
     "output_type": "stream",
     "text": [
      "-----------------------------------------\n",
      "Using n_estimators=10, max_depth=3\n",
      "Accuracy: 0.638984375\n",
      "Confusion matrix: \n",
      "[[0.68375    0.31625   ]\n",
      " [0.40578125 0.59421875]]\n",
      "-----------------------------------------\n",
      "Using n_estimators=10, max_depth=5\n",
      "Accuracy: 0.660078125\n",
      "Confusion matrix: \n",
      "[[0.6928125  0.3071875 ]\n",
      " [0.37265625 0.62734375]]\n",
      "-----------------------------------------\n",
      "Using n_estimators=10, max_depth=7\n",
      "Accuracy: 0.669609375\n",
      "Confusion matrix: \n",
      "[[0.681875   0.318125  ]\n",
      " [0.34265625 0.65734375]]\n",
      "-----------------------------------------\n",
      "Using n_estimators=50, max_depth=3\n",
      "Accuracy: 0.682734375\n",
      "Confusion matrix: \n",
      "[[0.70953125 0.29046875]\n",
      " [0.3440625  0.6559375 ]]\n",
      "-----------------------------------------\n",
      "Using n_estimators=50, max_depth=5\n",
      "Accuracy: 0.70671875\n",
      "Confusion matrix: \n",
      "[[0.72640625 0.27359375]\n",
      " [0.31296875 0.68703125]]\n",
      "-----------------------------------------\n",
      "Using n_estimators=50, max_depth=7\n",
      "Accuracy: 0.70328125\n",
      "Confusion matrix: \n",
      "[[0.71890625 0.28109375]\n",
      " [0.31234375 0.68765625]]\n",
      "-----------------------------------------\n",
      "Using n_estimators=100, max_depth=3\n",
      "Accuracy: 0.70859375\n",
      "Confusion matrix: \n",
      "[[0.72875   0.27125  ]\n",
      " [0.3115625 0.6884375]]\n",
      "-----------------------------------------\n",
      "Using n_estimators=100, max_depth=5\n",
      "Accuracy: 0.720390625\n",
      "Confusion matrix: \n",
      "[[0.7375     0.2625    ]\n",
      " [0.29671875 0.70328125]]\n",
      "-----------------------------------------\n",
      "Using n_estimators=100, max_depth=7\n",
      "Accuracy: 0.7221875\n",
      "Confusion matrix: \n",
      "[[0.73578125 0.26421875]\n",
      " [0.29140625 0.70859375]]\n",
      "-----------------------------------------\n",
      "Using n_estimators=300, max_depth=3\n",
      "Accuracy: 0.72515625\n",
      "Confusion matrix: \n",
      "[[0.73984375 0.26015625]\n",
      " [0.28953125 0.71046875]]\n",
      "-----------------------------------------\n",
      "Using n_estimators=300, max_depth=5\n",
      "Accuracy: 0.735078125\n",
      "Confusion matrix: \n",
      "[[0.746875   0.253125  ]\n",
      " [0.27671875 0.72328125]]\n",
      "-----------------------------------------\n",
      "Using n_estimators=300, max_depth=7\n",
      "Accuracy: 0.73875\n",
      "Confusion matrix: \n",
      "[[0.753125 0.246875]\n",
      " [0.275625 0.724375]]\n",
      "-----------------------------------------\n",
      "Using n_estimators=500, max_depth=3\n",
      "Accuracy: 0.73734375\n",
      "Confusion matrix: \n",
      "[[0.75015625 0.24984375]\n",
      " [0.27546875 0.72453125]]\n",
      "-----------------------------------------\n",
      "Using n_estimators=500, max_depth=5\n",
      "Accuracy: 0.73875\n",
      "Confusion matrix: \n",
      "[[0.75046875 0.24953125]\n",
      " [0.27296875 0.72703125]]\n",
      "-----------------------------------------\n",
      "Using n_estimators=500, max_depth=7\n",
      "Accuracy: 0.746875\n",
      "Confusion matrix: \n",
      "[[0.76265625 0.23734375]\n",
      " [0.26890625 0.73109375]]\n"
     ]
    }
   ],
   "source": [
    "# Brief grid search\n",
    "\n",
    "estimators = [10, 50, 100, 300, 500]\n",
    "max_depths = [3, 5, 7]\n",
    "accuracies = {}\n",
    "for n_estimators in estimators:\n",
    "    for max_depth in max_depths:\n",
    "        xgb = xgboost.XGBClassifier(n_estimators = n_estimators,\n",
    "                           max_depth = max_depth,\n",
    "                           random_state = 406)\n",
    "        xgb.fit(tt_x.values, tt_y.values.reshape(-1,1))\n",
    "        pred = xgb.predict(vv_x)\n",
    "        print(\"-----------------------------------------\")\n",
    "        print(f\"Using n_estimators={n_estimators}, max_depth={max_depth}\")\n",
    "        print(f\"Accuracy: {acc(vv_y.values.reshape(-1,1), pred)}\")\n",
    "        print(f\"Confusion matrix: \\n{confusion_matrix(vv_y.values.reshape(-1,1), pred, normalize = 'true')}\")"
   ]
  },
  {
   "cell_type": "code",
   "execution_count": 12,
   "id": "ccc68a21-b02f-40fe-95c0-336e11d41316",
   "metadata": {},
   "outputs": [
    {
     "name": "stdout",
     "output_type": "stream",
     "text": [
      "Accuracy: 0.7525\n",
      "Confusion matrix: \n",
      "[[0.76515625 0.23484375]\n",
      " [0.26015625 0.73984375]]\n"
     ]
    }
   ],
   "source": [
    "# xgboost on full training data with many estimators\n",
    "tt, vv = train_test_split(train,\n",
    "                          stratify = train['Label + Dataset'],\n",
    "                          train_size = 0.8,\n",
    "                          random_state = 406)\n",
    "tt_x = tt.loc[:, 0:1023]\n",
    "tt_y = tt['Label']\n",
    "vv_x = vv.loc[:, 0:1023]\n",
    "vv_y = vv['Label']\n",
    "xgb = xgboost.XGBClassifier(n_estimators = 1500,\n",
    "                           max_depth = 5,\n",
    "                           random_state = 406)\n",
    "xgb.fit(tt_x.values, tt_y.values.reshape(-1,1))\n",
    "pred = xgb.predict(vv_x)\n",
    "print(f\"Accuracy: {acc(vv_y.values.reshape(-1,1), pred)}\")\n",
    "print(f\"Confusion matrix: \\n{confusion_matrix(vv_y.values.reshape(-1,1), pred, normalize = 'true')}\")"
   ]
  },
  {
   "cell_type": "code",
   "execution_count": 2,
   "id": "bdfdcc26",
   "metadata": {},
   "outputs": [],
   "source": [
    "import logging\n",
    "import sys\n",
    "import optuna\n",
    "import xgboost as xgb\n",
    "from sklearn.model_selection import cross_validate\n",
    "from sklearn.ensemble        import RandomForestClassifier\n",
    "from sklearn.model_selection import StratifiedKFold\n",
    "\n",
    "optuna.logging.get_logger(\"optuna\").addHandler(logging.StreamHandler(sys.stdout))"
   ]
  },
  {
   "cell_type": "code",
   "execution_count": 19,
   "id": "708ff36f",
   "metadata": {},
   "outputs": [],
   "source": [
    "tt, vv = train_test_split(train,\n",
    "                          stratify = train['Label + Dataset'],\n",
    "                          train_size = 0.8,\n",
    "                          random_state = 406)\n",
    "tt_x = tt.loc[:, 0:1023]\n",
    "tt_y = tt['Label']\n",
    "vv_x = vv.loc[:, 0:1023]\n",
    "vv_y = vv['Label']"
   ]
  },
  {
   "cell_type": "code",
   "execution_count": 45,
   "id": "11f4f48d-4acc-478b-b637-33cf2a9049b1",
   "metadata": {},
   "outputs": [],
   "source": [
    "def objective(trial):\n",
    "\n",
    "    classifier_name = trial.suggest_categorical('classifier',['XGBoost'])\n",
    "    X = tt.loc[:, 0:1023]\n",
    "    y = tt['Label']\n",
    "    \n",
    "    cv_skf = StratifiedKFold(n_splits=5,shuffle=True,random_state=42)\n",
    "    \n",
    "    # if classifier_name==\"RandomForest\":\n",
    "    #     param = {\"n_jobs\":30}\n",
    "    #     param['max_depth']   = trial.suggest_int('rf_max_depth', 2, 32, log=True)\n",
    "    #     param['n_estimators']= trial.suggest_int('rf_n_estimators', 10, 1000, log=True)\n",
    "    #     param[\"max_features\"]= trial.suggest_categorical('rf_max_features',['auto', 'sqrt', 'log2'])\n",
    "        \n",
    "    #     classifier_obj = RandomForestClassifier(**param)\n",
    "    \n",
    "    if classifier_name==\"XGBoost\":\n",
    "        param={\"n_jobs\":10,\n",
    "               'eval_metric':'auc',\n",
    "               'use_label_encoder':False}\n",
    "        \n",
    "        param['n_estimators'] = trial.suggest_int('xgb_n_estimators', 10, 1000, log=True)\n",
    "        param['max_depth']    = trial.suggest_int('xgb_max_depth', 2, 32, log=True)\n",
    "        param['learning_rate']= trial.suggest_float(\"xgb_eta\", 1e-8, 1.0, log=True)\n",
    "        param[\"gamma\"]        = trial.suggest_float(\"xgb_gamma\", 1e-8, 1.0, log=True)  \n",
    "        param['reg_alpha']    = trial.suggest_float(\"xgb_alpha\", 1e-8, 1.0, log=True)\n",
    "        param['reg_lambda']   = trial.suggest_float(\"xgb_lambda\", 1e-8, 1.0, log=True)\n",
    "        param['booster']      = trial.suggest_categorical('xgb_booster', ['gbtree', 'gblinear', 'dart'])\n",
    "    \n",
    "        pruning_callback = optuna.integration.XGBoostPruningCallback(trial, \"validation-auc\")\n",
    "        classifier_obj = xgboost.XGBClassifier(**param)\n",
    "        \n",
    "        \n",
    "        \n",
    "        \n",
    "    cv_results = cross_validate(estimator=classifier_obj,\n",
    "                                X=X,\n",
    "                                y=y,\n",
    "                                scoring='f1',\n",
    "                                cv=cv_skf)\n",
    "    print(param)\n",
    "    print(cv_results)\n",
    "    mean_score = cv_results['test_score'].mean()\n",
    "    return mean_score"
   ]
  },
  {
   "cell_type": "code",
   "execution_count": 46,
   "id": "d6a29651",
   "metadata": {},
   "outputs": [
    {
     "name": "stderr",
     "output_type": "stream",
     "text": [
      "[I 2024-07-19 09:21:52,212] Using an existing study with name 'gfp_dist' instead of creating a new one.\n"
     ]
    }
   ],
   "source": [
    "study = optuna.create_study(study_name=\"gfp_dist\",\n",
    "                            direction='maximize',\n",
    "                            load_if_exists=True,storage=\"sqlite:///optgfp_dist_tmp.db\")"
   ]
  },
  {
   "cell_type": "code",
   "execution_count": 47,
   "id": "67b565d6",
   "metadata": {},
   "outputs": [],
   "source": [
    "study.optimize(objective, n_trials=30)"
   ]
  },
  {
   "cell_type": "code",
   "execution_count": 22,
   "id": "59a4f3b5",
   "metadata": {},
   "outputs": [],
   "source": [
    "from optuna.visualization.matplotlib import plot_optimization_history, plot_intermediate_values,plot_parallel_coordinate,plot_param_importances"
   ]
  },
  {
   "cell_type": "code",
   "execution_count": 23,
   "id": "a494519e",
   "metadata": {},
   "outputs": [
    {
     "name": "stderr",
     "output_type": "stream",
     "text": [
      "/var/folders/xn/5_bv95hd63q1174827crqlfm0000gn/T/ipykernel_19175/3040378434.py:1: ExperimentalWarning: plot_optimization_history is experimental (supported from v2.2.0). The interface can change in the future.\n",
      "  plot_optimization_history(study=study)\n",
      "[W 2024-07-19 09:14:09,330] There are no complete trials.\n",
      "No artists with labels found to put in legend.  Note that artists whose label start with an underscore are ignored when legend() is called with no argument.\n"
     ]
    },
    {
     "data": {
      "text/plain": [
       "<Axes: title={'center': 'Optimization History Plot'}, xlabel='Trial', ylabel='Objective Value'>"
      ]
     },
     "execution_count": 23,
     "metadata": {},
     "output_type": "execute_result"
    },
    {
     "data": {
      "image/png": "[encoded data removed]",
      "text/plain": [
       "<Figure size 640x480 with 1 Axes>"
      ]
     },
     "metadata": {},
     "output_type": "display_data"
    }
   ],
   "source": [
    "plot_optimization_history(study=study)"
   ]
  },
  {
   "cell_type": "code",
   "execution_count": 24,
   "id": "96f89710",
   "metadata": {},
   "outputs": [
    {
     "data": {
      "text/html": [
       "<div>\n",
       "<style scoped>\n",
       "    .dataframe tbody tr th:only-of-type {\n",
       "        vertical-align: middle;\n",
       "    }\n",
       "\n",
       "    .dataframe tbody tr th {\n",
       "        vertical-align: top;\n",
       "    }\n",
       "\n",
       "    .dataframe thead th {\n",
       "        text-align: right;\n",
       "    }\n",
       "</style>\n",
       "<table border=\"1\" class=\"dataframe\">\n",
       "  <thead>\n",
       "    <tr style=\"text-align: right;\">\n",
       "      <th></th>\n",
       "    </tr>\n",
       "  </thead>\n",
       "  <tbody>\n",
       "  </tbody>\n",
       "</table>\n",
       "</div>"
      ],
      "text/plain": [
       "Empty DataFrame\n",
       "Columns: []\n",
       "Index: []"
      ]
     },
     "execution_count": 24,
     "metadata": {},
     "output_type": "execute_result"
    }
   ],
   "source": [
    "study_df = study.trials_dataframe()\n",
    "study_df.head() "
   ]
  },
  {
   "cell_type": "code",
   "execution_count": null,
   "id": "ba252a2c",
   "metadata": {},
   "outputs": [],
   "source": [
    "print(\"Best params: \", study.best_params)\n",
    "print(\"Best value: \", study.best_value)\n",
    "print(\"Best Trial: \", study.best_trial)\n",
    "print(\"Trials: \", study.trials)"
   ]
  },
  {
   "cell_type": "markdown",
   "id": "36873b78-0ef4-488b-a2e6-3ad96ef6127c",
   "metadata": {},
   "source": [
    "### Testing accuracies on each type of data"
   ]
  },
  {
   "cell_type": "code",
   "execution_count": 10,
   "id": "313a3dfa-596a-410b-8853-7e3be4744f88",
   "metadata": {},
   "outputs": [
    {
     "name": "stdout",
     "output_type": "stream",
     "text": [
      "Fitting fold 0 for data type essays\n",
      "Predicting fold 0 for type essays\n",
      "Accuracy: 0.97625\n",
      "Fitting fold 1 for data type essays\n",
      "Predicting fold 1 for type essays\n",
      "Accuracy: 0.98125\n",
      "Fitting fold 2 for data type essays\n",
      "Predicting fold 2 for type essays\n",
      "Accuracy: 0.984375\n",
      "Fitting fold 3 for data type essays\n",
      "Predicting fold 3 for type essays\n",
      "Accuracy: 0.9775\n",
      "Fitting fold 4 for data type essays\n",
      "Predicting fold 4 for type essays\n",
      "Accuracy: 0.9840625\n",
      "Fitting fold 0 for data type grover\n",
      "Predicting fold 0 for type grover\n",
      "Accuracy: 0.520625\n",
      "Fitting fold 1 for data type grover\n",
      "Predicting fold 1 for type grover\n",
      "Accuracy: 0.53875\n",
      "Fitting fold 2 for data type grover\n",
      "Predicting fold 2 for type grover\n",
      "Accuracy: 0.530625\n",
      "Fitting fold 3 for data type grover\n",
      "Predicting fold 3 for type grover\n",
      "Accuracy: 0.5334375\n",
      "Fitting fold 4 for data type grover\n",
      "Predicting fold 4 for type grover\n",
      "Accuracy: 0.526875\n",
      "Fitting fold 0 for data type wiki\n",
      "Predicting fold 0 for type wiki\n",
      "Accuracy: 0.646875\n",
      "Fitting fold 1 for data type wiki\n",
      "Predicting fold 1 for type wiki\n",
      "Accuracy: 0.636875\n",
      "Fitting fold 2 for data type wiki\n",
      "Predicting fold 2 for type wiki\n",
      "Accuracy: 0.6371875\n",
      "Fitting fold 3 for data type wiki\n",
      "Predicting fold 3 for type wiki\n",
      "Accuracy: 0.625\n",
      "Fitting fold 4 for data type wiki\n",
      "Predicting fold 4 for type wiki\n",
      "Accuracy: 0.634375\n",
      "Fitting fold 0 for data type reviews\n",
      "Predicting fold 0 for type reviews\n",
      "Accuracy: 0.808125\n",
      "Fitting fold 1 for data type reviews\n",
      "Predicting fold 1 for type reviews\n",
      "Accuracy: 0.81375\n",
      "Fitting fold 2 for data type reviews\n",
      "Predicting fold 2 for type reviews\n",
      "Accuracy: 0.823125\n",
      "Fitting fold 3 for data type reviews\n",
      "Predicting fold 3 for type reviews\n",
      "Accuracy: 0.8140625\n",
      "Fitting fold 4 for data type reviews\n",
      "Predicting fold 4 for type reviews\n",
      "Accuracy: 0.809375\n",
      "Final accuracy scores for each fold:\n",
      "{'essays': [0.97625, 0.98125, 0.984375, 0.9775, 0.9840625], 'grover': [0.520625, 0.53875, 0.530625, 0.5334375, 0.526875], 'wiki': [0.646875, 0.636875, 0.6371875, 0.625, 0.634375], 'reviews': [0.808125, 0.81375, 0.823125, 0.8140625, 0.809375]}\n"
     ]
    }
   ],
   "source": [
    "# 5-fold cross validation, stratified by label and original dataset\n",
    "kfold = StratifiedKFold(n_splits = 5,\n",
    "                        shuffle = True,\n",
    "                        random_state = 406)\n",
    "\n",
    "acc_scores = {data_type: [] for data_type in ['essays', 'grover', 'wiki', 'reviews']}\n",
    "\n",
    "for data_type in ['essays', 'grover', 'wiki', 'reviews']:\n",
    "    data = train[train['Original dataset'] == data_type]\n",
    "    for fold, (t_index, v_index) in enumerate(kfold.split(data, data['Label + Dataset'])):\n",
    "        # Get training x and labels, and validation x and labels\n",
    "        tt_x = (data.iloc[t_index]).loc[:, 0:1023]\n",
    "        tt_y = (data.iloc[t_index])['Label']\n",
    "        vv_x = (data.iloc[v_index]).loc[:, 0:1023]\n",
    "        vv_y = (data.iloc[v_index])['Label']\n",
    "        print(f\"Fitting fold {fold} for data type {data_type}\")\n",
    "        xgb = xgboost.XGBClassifier()\n",
    "        xgb.fit(tt_x.values, tt_y.values.reshape(-1,1))\n",
    "        print(f\"Predicting fold {fold} for type {data_type}\")\n",
    "        pred = xgb.predict(vv_x)\n",
    "        fold_acc = acc(vv_y.values.reshape(-1,1), pred)\n",
    "        print(f\"Accuracy: {fold_acc}\")\n",
    "        acc_scores[data_type] += [fold_acc]\n",
    "\n",
    "print(\"Final accuracy scores for each fold:\")\n",
    "print(acc_scores)"
   ]
  },
  {
   "cell_type": "code",
   "execution_count": null,
   "id": "1d15e454-cd77-4bca-ab43-10a0ebd75e64",
   "metadata": {},
   "outputs": [],
   "source": []
  }
 ],
 "metadata": {
  "kernelspec": {
   "display_name": "Python 3 (ipykernel)",
   "language": "python",
   "name": "python3"
  },
  "language_info": {
   "codemirror_mode": {
    "name": "ipython",
    "version": 3
   },
   "file_extension": ".py",
   "mimetype": "text/x-python",
   "name": "python",
   "nbconvert_exporter": "python",
   "pygments_lexer": "ipython3",
   "version": "3.11.8"
  }
 },
 "nbformat": 4,
 "nbformat_minor": 5
}
