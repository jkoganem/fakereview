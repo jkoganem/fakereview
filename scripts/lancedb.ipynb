{
 "cells": [
  {
   "cell_type": "code",
   "execution_count": 13,
   "metadata": {},
   "outputs": [],
   "source": [
    "#LanceDB: https://lancedb.github.io/lancedb/\n",
    "#tutorial from https://lancedb.github.io/lancedb/basic/\n",
    "import lancedb\n",
    "import pandas as pd\n",
    "import pyarrow as pa\n",
    "from tqdm.autonotebook import tqdm, trange"
   ]
  },
  {
   "cell_type": "code",
   "execution_count": 10,
   "metadata": {},
   "outputs": [],
   "source": [
    "uri = \"data/sample-lancedb\"\n",
    "db = lancedb.connect(uri)\n",
    "uri = \"data/sample-lancedb\"\n",
    "async_db = await lancedb.connect_async(uri)"
   ]
  },
  {
   "cell_type": "code",
   "execution_count": 12,
   "metadata": {},
   "outputs": [],
   "source": [
    "df = pd.DataFrame(\n",
    "    [\n",
    "        {\"vector\": [3.1, 4.1], \"item\": \"foo\", \"price\": 10.0},\n",
    "        {\"vector\": [5.9, 26.5], \"item\": \"bar\", \"price\": 20.0},\n",
    "    ]\n",
    ")\n",
    "# Synchronous client\n",
    "tbl = db.create_table(\"table_from_df\", data=df)\n",
    "# Asynchronous client\n",
    "async_tbl = await async_db.create_table(\"table_from_df2\", df)"
   ]
  },
  {
   "cell_type": "code",
   "execution_count": null,
   "metadata": {},
   "outputs": [],
   "source": []
  }
 ],
 "metadata": {
  "kernelspec": {
   "display_name": "base",
   "language": "python",
   "name": "python3"
  },
  "language_info": {
   "codemirror_mode": {
    "name": "ipython",
    "version": 3
   },
   "file_extension": ".py",
   "mimetype": "text/x-python",
   "name": "python",
   "nbconvert_exporter": "python",
   "pygments_lexer": "ipython3",
   "version": "3.12.2"
  }
 },
 "nbformat": 4,
 "nbformat_minor": 2
}
