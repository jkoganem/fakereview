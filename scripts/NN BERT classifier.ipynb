{
 "cells": [
  {
   "cell_type": "code",
   "execution_count": 1,
   "id": "77449ff9",
   "metadata": {},
   "outputs": [
    {
     "name": "stdout",
     "output_type": "stream",
     "text": [
      "Requirement already satisfied: torch in /opt/anaconda3/lib/python3.11/site-packages (2.4.0)\n",
      "Requirement already satisfied: filelock in /opt/anaconda3/lib/python3.11/site-packages (from torch) (3.15.4)\n",
      "Requirement already satisfied: typing-extensions>=4.8.0 in /opt/anaconda3/lib/python3.11/site-packages (from torch) (4.12.2)\n",
      "Requirement already satisfied: sympy in /opt/anaconda3/lib/python3.11/site-packages (from torch) (1.13.0)\n",
      "Requirement already satisfied: networkx in /opt/anaconda3/lib/python3.11/site-packages (from torch) (3.3)\n",
      "Requirement already satisfied: jinja2 in /opt/anaconda3/lib/python3.11/site-packages (from torch) (3.1.4)\n",
      "Requirement already satisfied: fsspec in /opt/anaconda3/lib/python3.11/site-packages (from torch) (2024.6.1)\n",
      "Requirement already satisfied: MarkupSafe>=2.0 in /opt/anaconda3/lib/python3.11/site-packages (from jinja2->torch) (2.1.5)\n",
      "Requirement already satisfied: mpmath<1.4,>=1.1.0 in /opt/anaconda3/lib/python3.11/site-packages (from sympy->torch) (1.3.0)\n",
      "Requirement already satisfied: transformers in /opt/anaconda3/lib/python3.11/site-packages (4.42.4)\n",
      "Requirement already satisfied: filelock in /opt/anaconda3/lib/python3.11/site-packages (from transformers) (3.15.4)\n",
      "Requirement already satisfied: huggingface-hub<1.0,>=0.23.2 in /opt/anaconda3/lib/python3.11/site-packages (from transformers) (0.23.5)\n",
      "Requirement already satisfied: numpy<2.0,>=1.17 in /opt/anaconda3/lib/python3.11/site-packages (from transformers) (1.26.4)\n",
      "Requirement already satisfied: packaging>=20.0 in /opt/anaconda3/lib/python3.11/site-packages (from transformers) (24.1)\n",
      "Requirement already satisfied: pyyaml>=5.1 in /opt/anaconda3/lib/python3.11/site-packages (from transformers) (6.0.1)\n",
      "Requirement already satisfied: regex!=2019.12.17 in /opt/anaconda3/lib/python3.11/site-packages (from transformers) (2024.7.24)\n",
      "Requirement already satisfied: requests in /opt/anaconda3/lib/python3.11/site-packages (from transformers) (2.32.3)\n",
      "Requirement already satisfied: tokenizers<0.20,>=0.19 in /opt/anaconda3/lib/python3.11/site-packages (from transformers) (0.19.1)\n",
      "Requirement already satisfied: safetensors>=0.4.1 in /opt/anaconda3/lib/python3.11/site-packages (from transformers) (0.4.3)\n",
      "Requirement already satisfied: tqdm>=4.27 in /opt/anaconda3/lib/python3.11/site-packages (from transformers) (4.66.4)\n",
      "Requirement already satisfied: fsspec>=2023.5.0 in /opt/anaconda3/lib/python3.11/site-packages (from huggingface-hub<1.0,>=0.23.2->transformers) (2024.6.1)\n",
      "Requirement already satisfied: typing-extensions>=3.7.4.3 in /opt/anaconda3/lib/python3.11/site-packages (from huggingface-hub<1.0,>=0.23.2->transformers) (4.12.2)\n",
      "Requirement already satisfied: charset-normalizer<4,>=2 in /opt/anaconda3/lib/python3.11/site-packages (from requests->transformers) (3.3.2)\n",
      "Requirement already satisfied: idna<4,>=2.5 in /opt/anaconda3/lib/python3.11/site-packages (from requests->transformers) (3.7)\n",
      "Requirement already satisfied: urllib3<3,>=1.21.1 in /opt/anaconda3/lib/python3.11/site-packages (from requests->transformers) (2.2.2)\n",
      "Requirement already satisfied: certifi>=2017.4.17 in /opt/anaconda3/lib/python3.11/site-packages (from requests->transformers) (2024.7.4)\n",
      "Requirement already satisfied: pandas in /opt/anaconda3/lib/python3.11/site-packages (2.2.2)\n",
      "Requirement already satisfied: numpy>=1.23.2 in /opt/anaconda3/lib/python3.11/site-packages (from pandas) (1.26.4)\n",
      "Requirement already satisfied: python-dateutil>=2.8.2 in /opt/anaconda3/lib/python3.11/site-packages (from pandas) (2.9.0)\n",
      "Requirement already satisfied: pytz>=2020.1 in /opt/anaconda3/lib/python3.11/site-packages (from pandas) (2024.1)\n",
      "Requirement already satisfied: tzdata>=2022.7 in /opt/anaconda3/lib/python3.11/site-packages (from pandas) (2024.1)\n",
      "Requirement already satisfied: six>=1.5 in /opt/anaconda3/lib/python3.11/site-packages (from python-dateutil>=2.8.2->pandas) (1.16.0)\n",
      "Requirement already satisfied: scikit-learn in /opt/anaconda3/lib/python3.11/site-packages (1.3.1)\n",
      "Requirement already satisfied: numpy<2.0,>=1.17.3 in /opt/anaconda3/lib/python3.11/site-packages (from scikit-learn) (1.26.4)\n",
      "Requirement already satisfied: scipy>=1.5.0 in /opt/anaconda3/lib/python3.11/site-packages (from scikit-learn) (1.14.0)\n",
      "Requirement already satisfied: joblib>=1.1.1 in /opt/anaconda3/lib/python3.11/site-packages (from scikit-learn) (1.4.2)\n",
      "Requirement already satisfied: threadpoolctl>=2.0.0 in /opt/anaconda3/lib/python3.11/site-packages (from scikit-learn) (3.5.0)\n"
     ]
    }
   ],
   "source": [
    "!pip install torch\n",
    "!pip install transformers\n",
    "!pip install pandas\n",
    "!pip install scikit-learn"
   ]
  },
  {
   "cell_type": "code",
   "execution_count": 19,
   "id": "b5ca90f9",
   "metadata": {},
   "outputs": [],
   "source": [
    "import pandas as pd\n",
    "from sklearn.model_selection import train_test_split\n",
    "from transformers import BertForSequenceClassification\n",
    "from transformers import AutoTokenizer\n",
    "import torch\n",
    "from torch.utils.data import Dataset, DataLoader\n",
    "from torch.optim import AdamW\n",
    "from tqdm.notebook import tqdm"
   ]
  },
  {
   "cell_type": "code",
   "execution_count": 6,
   "id": "f25a6a61",
   "metadata": {},
   "outputs": [
    {
     "data": {
      "text/html": [
       "<div>\n",
       "<style scoped>\n",
       "    .dataframe tbody tr th:only-of-type {\n",
       "        vertical-align: middle;\n",
       "    }\n",
       "\n",
       "    .dataframe tbody tr th {\n",
       "        vertical-align: top;\n",
       "    }\n",
       "\n",
       "    .dataframe thead th {\n",
       "        text-align: right;\n",
       "    }\n",
       "</style>\n",
       "<table border=\"1\" class=\"dataframe\">\n",
       "  <thead>\n",
       "    <tr style=\"text-align: right;\">\n",
       "      <th></th>\n",
       "      <th>Text</th>\n",
       "      <th>Label</th>\n",
       "      <th>Model</th>\n",
       "      <th>Original dataset</th>\n",
       "      <th>Row in original dataset</th>\n",
       "    </tr>\n",
       "  </thead>\n",
       "  <tbody>\n",
       "    <tr>\n",
       "      <th>0</th>\n",
       "      <td>While driverless cars present many promising b...</td>\n",
       "      <td>Machine</td>\n",
       "      <td>darragh_claude_v7</td>\n",
       "      <td>essays</td>\n",
       "      <td>13355</td>\n",
       "    </tr>\n",
       "    <tr>\n",
       "      <th>1</th>\n",
       "      <td>Homework Clubs: The Key to Unlocking Academic ...</td>\n",
       "      <td>Machine</td>\n",
       "      <td>llama2_chat</td>\n",
       "      <td>essays</td>\n",
       "      <td>7249</td>\n",
       "    </tr>\n",
       "    <tr>\n",
       "      <th>2</th>\n",
       "      <td>\"The legalization of marijuana has been a cont...</td>\n",
       "      <td>Machine</td>\n",
       "      <td>falcon_180b_v1</td>\n",
       "      <td>essays</td>\n",
       "      <td>2603</td>\n",
       "    </tr>\n",
       "    <tr>\n",
       "      <th>3</th>\n",
       "      <td>Taking the opportunity to learn new things can...</td>\n",
       "      <td>Machine</td>\n",
       "      <td>mistral7binstruct_v1</td>\n",
       "      <td>essays</td>\n",
       "      <td>3993</td>\n",
       "    </tr>\n",
       "    <tr>\n",
       "      <th>4</th>\n",
       "      <td>Working with a partner is an effective way fo...</td>\n",
       "      <td>Machine</td>\n",
       "      <td>mistral7binstruct_v2</td>\n",
       "      <td>essays</td>\n",
       "      <td>3773</td>\n",
       "    </tr>\n",
       "  </tbody>\n",
       "</table>\n",
       "</div>"
      ],
      "text/plain": [
       "                                                Text    Label  \\\n",
       "0  While driverless cars present many promising b...  Machine   \n",
       "1  Homework Clubs: The Key to Unlocking Academic ...  Machine   \n",
       "2  \"The legalization of marijuana has been a cont...  Machine   \n",
       "3  Taking the opportunity to learn new things can...  Machine   \n",
       "4   Working with a partner is an effective way fo...  Machine   \n",
       "\n",
       "                  Model Original dataset  Row in original dataset  \n",
       "0     darragh_claude_v7           essays                    13355  \n",
       "1           llama2_chat           essays                     7249  \n",
       "2        falcon_180b_v1           essays                     2603  \n",
       "3  mistral7binstruct_v1           essays                     3993  \n",
       "4  mistral7binstruct_v2           essays                     3773  "
      ]
     },
     "execution_count": 6,
     "metadata": {},
     "output_type": "execute_result"
    }
   ],
   "source": [
    "data = pd.read_csv('../raw data/combined_data.csv')\n",
    "data.head()"
   ]
  },
  {
   "cell_type": "code",
   "execution_count": 7,
   "id": "4c277f53",
   "metadata": {},
   "outputs": [],
   "source": [
    "data['Label'] = data['Label'].apply(lambda x: 0 if x == 'Human' else 1)"
   ]
  },
  {
   "cell_type": "code",
   "execution_count": 8,
   "id": "5d8883d8",
   "metadata": {},
   "outputs": [],
   "source": [
    "sampled_data = data.sample(n=200, random_state=42)"
   ]
  },
  {
   "cell_type": "code",
   "execution_count": 9,
   "id": "cffa203e",
   "metadata": {},
   "outputs": [
    {
     "name": "stdout",
     "output_type": "stream",
     "text": [
      "Train X shape: (140,)\n",
      "Test X shape: (60,)\n",
      "Train Y shape: (140,)\n",
      "Test Y shape: (60,)\n"
     ]
    }
   ],
   "source": [
    "train_X, test_X, train_Y, test_Y = train_test_split(\n",
    "    sampled_data['Text'], \n",
    "    sampled_data['Label'], \n",
    "    train_size=0.7, \n",
    "    random_state=42\n",
    ")\n",
    "\n",
    "# Print the shapes to verify\n",
    "print(f\"Train X shape: {train_X.shape}\")\n",
    "print(f\"Test X shape: {test_X.shape}\")\n",
    "print(f\"Train Y shape: {train_Y.shape}\")\n",
    "print(f\"Test Y shape: {test_Y.shape}\")"
   ]
  },
  {
   "cell_type": "code",
   "execution_count": 10,
   "id": "e39d4577",
   "metadata": {},
   "outputs": [
    {
     "data": {
      "application/vnd.jupyter.widget-view+json": {
       "model_id": "05804be076cd445b923a5fef351fc16b",
       "version_major": 2,
       "version_minor": 0
      },
      "text/plain": [
       "tokenizer_config.json:   0%|          | 0.00/49.0 [00:00<?, ?B/s]"
      ]
     },
     "metadata": {},
     "output_type": "display_data"
    },
    {
     "data": {
      "application/vnd.jupyter.widget-view+json": {
       "model_id": "3ab726019881412989a5c924a7df984a",
       "version_major": 2,
       "version_minor": 0
      },
      "text/plain": [
       "config.json:   0%|          | 0.00/570 [00:00<?, ?B/s]"
      ]
     },
     "metadata": {},
     "output_type": "display_data"
    },
    {
     "data": {
      "application/vnd.jupyter.widget-view+json": {
       "model_id": "e6b585fbdc434f248d3ebbeffbcee657",
       "version_major": 2,
       "version_minor": 0
      },
      "text/plain": [
       "vocab.txt:   0%|          | 0.00/213k [00:00<?, ?B/s]"
      ]
     },
     "metadata": {},
     "output_type": "display_data"
    },
    {
     "data": {
      "application/vnd.jupyter.widget-view+json": {
       "model_id": "5cbbbff1a47646899646f4497b2eb96d",
       "version_major": 2,
       "version_minor": 0
      },
      "text/plain": [
       "tokenizer.json:   0%|          | 0.00/436k [00:00<?, ?B/s]"
      ]
     },
     "metadata": {},
     "output_type": "display_data"
    }
   ],
   "source": [
    "tokenizer = AutoTokenizer.from_pretrained(\"bert-base-cased\")"
   ]
  },
  {
   "cell_type": "code",
   "execution_count": 11,
   "id": "7278afbd",
   "metadata": {},
   "outputs": [],
   "source": [
    "train_tokens = tokenizer(list(train_X), padding = True, truncation=True)\n",
    "test_tokens = tokenizer(list(test_X), padding = True, truncation=True)"
   ]
  },
  {
   "cell_type": "code",
   "execution_count": 12,
   "id": "afec4909",
   "metadata": {},
   "outputs": [
    {
     "data": {
      "text/plain": [
       "dict_keys(['input_ids', 'token_type_ids', 'attention_mask'])"
      ]
     },
     "execution_count": 12,
     "metadata": {},
     "output_type": "execute_result"
    }
   ],
   "source": [
    "train_tokens.keys()"
   ]
  },
  {
   "cell_type": "code",
   "execution_count": 13,
   "id": "4fa57178",
   "metadata": {},
   "outputs": [
    {
     "name": "stdout",
     "output_type": "stream",
     "text": [
      "[101, 6510, 1431, 1129, 1682, 1106, 1902, 1147, 1319, 2247, 1933, 1272, 117, 1122, 1660, 1172, 170, 2640, 1106, 1138, 1380, 1106, 1440, 1977, 1106, 1107, 1103, 2247, 119, 2907, 1122, 1156, 1494, 1172, 1243, 170, 2640, 1120, 13992, 1147, 1319, 17980, 119, 6510, 1156, 1129, 1682, 1106, 1138, 1115, 2296, 1115, 1152, 1132, 1682, 1106, 1321, 1113, 1103, 4812, 119, 1220, 1156, 1129, 1682, 1106, 3858, 1167, 1191, 1152, 1169, 2011, 1122, 1155, 1113, 1147, 1319, 119, 1370, 1538, 1651, 1152, 1274, 1204, 1541, 1440, 1977, 1106, 1833, 1933, 1133, 1191, 1128, 1660, 1172, 170, 2640, 1106, 1202, 1122, 1113, 1147, 1319, 1152, 1547, 1243, 1154, 1122, 119, 1752, 117, 13795, 1240, 1319, 1933, 1112, 170, 2377, 1122, 1660, 1128, 1380, 1106, 1440, 1977, 1106, 1107, 1103, 2247, 119, 2082, 1651, 2215, 1313, 1111, 1103, 2247, 1114, 1720, 1106, 1202, 119, 1573, 117, 1191, 1128, 1660, 170, 2377, 170, 2640, 1106, 1902, 1147, 1319, 1933, 1111, 1103, 2247, 1122, 1660, 1172, 170, 2640, 1106, 1202, 1380, 119, 6510, 1156, 1129, 1682, 1106, 8664, 1167, 1191, 1152, 1902, 1147, 1319, 1933, 119, 1556, 12138, 1147, 1136, 2807, 1120, 1313, 5497, 170, 3821, 1104, 13228, 2903, 22989, 1152, 1132, 2140, 1217, 2327, 1105, 2232, 1213, 119, 1966, 117, 1211, 4952, 6616, 1122, 1110, 170, 2213, 1911, 1111, 1651, 1106, 1902, 1152, 1319, 1933, 1272, 1152, 2059, 1152, 1209, 1136, 1321, 1122, 5536, 119, 1135, 2140, 1103, 3714, 1544, 1104, 1251, 2126, 1107, 1103, 1362, 1336, 1138, 1651, 1150, 1110, 1154, 1893, 1137, 1154, 13795, 1614, 119, 1135, 1156, 1660, 1651, 170, 2640, 1106, 6848, 1147, 1319, 17980, 119, 2082, 1651, 1567, 1103, 1354, 1104, 1543, 1147, 1319, 3203, 119, 1220, 1156, 3858, 1167, 1105, 7290, 1167, 1114, 1543, 1147, 1319, 1933, 1105, 13795, 1122, 1103, 1236, 1115, 1152, 9353, 1122, 1106, 1129, 119, 2907, 117, 5074, 1651, 1902, 1147, 1281, 1933, 1156, 1519, 1172, 7290, 1167, 119, 1556, 15137, 1152, 1132, 1682, 1106, 3858, 1167, 1105, 1267, 1645, 1115, 1152, 1309, 1562, 119, 16409, 26671, 1474, 1240, 1107, 1132, 1105, 1128, 1893, 3218, 1660, 1128, 170, 2247, 1933, 119, 1262, 1115, 1933, 1110, 1106, 1321, 170, 185, 1596, 1104, 1184, 1128, 1341, 18028, 1234, 1107, 1103, 1362, 119, 1192, 1156, 1138, 1106, 1243, 1149, 1240, 7238, 4834, 1106, 1202, 1115, 1176, 1280, 1796, 119, 1122, 1156, 1145, 1129, 170, 1618, 1236, 1106, 10621, 1114, 1234, 1106, 4361, 1869, 1111, 1240, 1933, 119, 7282, 117, 4952, 1156, 1328, 1111, 1147, 1651, 1106, 1321, 1113, 1115, 4812, 1106, 5424, 1115, 1152, 1132, 2407, 1106, 1250, 1111, 1147, 3654, 119, 1135, 1156, 1145, 1660, 4067, 1103, 2296, 1115, 1152, 1132, 4451, 1104, 1781, 1113, 1103, 4812, 1104, 15975, 1106, 1175, 3218, 1397, 1214, 1115, 1152, 1132, 2784, 119, 9904, 1138, 170, 1662, 1159, 4000, 1115, 1152, 1169, 1202, 4333, 1107, 170, 2784, 4758, 119, 1573, 117, 2368, 4067, 1115, 4812, 1104, 13795, 1147, 1933, 1122, 112, 188, 5074, 1172, 1221, 1115, 1122, 1110, 1147, 2261, 1106, 1294, 1612, 1152, 1138, 1917, 1152, 1444, 1111, 1103, 1933, 1105, 3650, 1115, 1152, 1132, 4451, 1104, 1833, 1115, 102]\n",
      "[CLS] Students should be able to design their own summer project because, it give them a chance to have something to look forward to in the summer. Also it would help them get a chance at experiencing their own creativity. Students would be able to have that feeling that they are able to take on the responsibility. They would be able to learn more if they can designed it all on their own. For must students they dont really look forward to doing project but if you give them a chance to do it on their own they might get into it. First, designing your own project as a student it give you something to look forward to in the summer. Most students stay home for the summer with nothing to do. So, if you give a student a chance to design their own project for the summer it give them a chance to do something. Students would be able to explore more if they design their own project. With exploring their not sitting at home eating a bag of chips watching Netflix they are actually being active and moving around. Although, most teachers believes it is a bad idea for students to design they own project because they believe they will not take it seriously. It actually the opposite half of any schools in the world may have students who is into art or into designing things. It would give students a chance to express their own creativity. Most students love the thought of making their own projects. They would learn more and discover more with making their own project and designing it the way that they prefer it to be. Also, letting students design their won project would let them discover more. With discovering they are able to learn more and see thing that they never seen. Example say your in are and you art teacher give you a summer project. And that project is to take a pic of what you think expresses people in the world. You would have to get out your comfort zone to do that like going outside. it would also be a better way to communicate with people to gain information for your project. Furthermore, teachers would want for their students to take on that responsibility to prove that they are ready to work for their grade. It would also give kids the feeling that they are capable of taking on the responsibility of proving to there teacher next year that they are responsible. Kids have a hard time showing that they can do stuff in a responsible manner. So, giving kids that responsibility of designing their project it's letting them know that it is their job to make sure they have everything they need for the project and knowing that they are capable of doing that [SEP]\n"
     ]
    }
   ],
   "source": [
    "print(train_tokens['input_ids'][0])\n",
    "print(tokenizer.decode(train_tokens['input_ids'][0]))"
   ]
  },
  {
   "cell_type": "code",
   "execution_count": 14,
   "id": "b80a80f2",
   "metadata": {},
   "outputs": [],
   "source": [
    "class TokenData(Dataset):\n",
    "    def __init__(self, train = False):\n",
    "        if train:\n",
    "            self.text_data = train_X\n",
    "            self.tokens = train_tokens\n",
    "            self.labels = list(train_Y)\n",
    "        else:\n",
    "            self.text_data = test_X\n",
    "            self.tokens = test_tokens\n",
    "            self.labels = list(test_Y)\n",
    "\n",
    "    def __len__(self):\n",
    "        return len(self.text_data)\n",
    "\n",
    "    def __getitem__(self, idx):\n",
    "        sample = {}\n",
    "        for k, v in self.tokens.items():\n",
    "            sample[k] = torch.tensor(v[idx])\n",
    "        sample['labels'] = torch.tensor(self.labels[idx])\n",
    "        return sample"
   ]
  },
  {
   "cell_type": "code",
   "execution_count": 15,
   "id": "ab6ba20f",
   "metadata": {},
   "outputs": [],
   "source": [
    "batch_size = 2\n",
    "train_dataset = TokenData(train = True)\n",
    "train_loader = DataLoader(train_dataset, shuffle=True, batch_size=batch_size)\n",
    "\n",
    "test_dataset = TokenData(train = False)\n",
    "test_loader = DataLoader(test_dataset, shuffle=True, batch_size=batch_size)"
   ]
  },
  {
   "cell_type": "code",
   "execution_count": 16,
   "id": "36f72ad3",
   "metadata": {},
   "outputs": [
    {
     "data": {
      "application/vnd.jupyter.widget-view+json": {
       "model_id": "943f7923df1443c4a2c2a96e7ce4f391",
       "version_major": 2,
       "version_minor": 0
      },
      "text/plain": [
       "model.safetensors:   0%|          | 0.00/436M [00:00<?, ?B/s]"
      ]
     },
     "metadata": {},
     "output_type": "display_data"
    },
    {
     "name": "stderr",
     "output_type": "stream",
     "text": [
      "Some weights of BertForSequenceClassification were not initialized from the model checkpoint at bert-base-cased and are newly initialized: ['classifier.bias', 'classifier.weight']\n",
      "You should probably TRAIN this model on a down-stream task to be able to use it for predictions and inference.\n"
     ]
    }
   ],
   "source": [
    "bert_model = BertForSequenceClassification.from_pretrained('bert-base-cased') # Pre-trained model\n",
    "optimizer = AdamW(bert_model.parameters(), lr=1e-5) # Optimization function\n",
    "loss_fn = torch.nn.CrossEntropyLoss() # Loss function"
   ]
  },
  {
   "cell_type": "code",
   "execution_count": 17,
   "id": "5e2f2256",
   "metadata": {},
   "outputs": [
    {
     "name": "stdout",
     "output_type": "stream",
     "text": [
      "Using cpu\n"
     ]
    }
   ],
   "source": [
    "num_epochs = 3\n",
    "device = \"cuda\" if torch.cuda.is_available() else \"mps\" if torch.backends.mps.is_available() else \"cpu\"\n",
    "bert_model.to(device) # Transfer model to GPU if available\n",
    "print(f\"Using {device}\")"
   ]
  },
  {
   "cell_type": "code",
   "execution_count": 23,
   "id": "e823c785",
   "metadata": {},
   "outputs": [
    {
     "name": "stdout",
     "output_type": "stream",
     "text": [
      "Epoch:  1\n"
     ]
    },
    {
     "data": {
      "application/vnd.jupyter.widget-view+json": {
       "model_id": "1ec397c6ecaf422abced2ced56c8858b",
       "version_major": 2,
       "version_minor": 0
      },
      "text/plain": [
       "0it [00:00, ?it/s]"
      ]
     },
     "metadata": {},
     "output_type": "display_data"
    },
    {
     "name": "stdout",
     "output_type": "stream",
     "text": [
      "\n",
      "Training epoch 1 loss:  0.2695750892162323\n",
      "Testing batch 1 loss: 0.35671645402908325\n",
      "Testing accuracy:  0.5\n",
      "Testing batch 2 loss: 0.27578186988830566\n",
      "Testing accuracy:  0.75\n",
      "Testing batch 3 loss: 0.3001209795475006\n",
      "Testing accuracy:  0.6666666666666666\n",
      "Testing batch 4 loss: 0.2998211085796356\n",
      "Testing accuracy:  0.75\n",
      "Testing batch 5 loss: 0.24831734597682953\n",
      "Testing accuracy:  0.8\n",
      "Testing batch 6 loss: 0.3468441963195801\n",
      "Testing accuracy:  0.75\n",
      "Testing batch 7 loss: 0.4780895709991455\n",
      "Testing accuracy:  0.6428571428571429\n",
      "Testing batch 8 loss: 0.2938806414604187\n",
      "Testing accuracy:  0.6875\n",
      "Testing batch 9 loss: 0.28955894708633423\n",
      "Testing accuracy:  0.6666666666666666\n",
      "Testing batch 10 loss: 0.39042699337005615\n",
      "Testing accuracy:  0.6\n",
      "Testing batch 11 loss: 0.32081276178359985\n",
      "Testing accuracy:  0.5909090909090909\n",
      "Testing batch 12 loss: 0.2816104590892792\n",
      "Testing accuracy:  0.625\n",
      "Testing batch 13 loss: 0.4543875455856323\n",
      "Testing accuracy:  0.5769230769230769\n",
      "Testing batch 14 loss: 0.23609992861747742\n",
      "Testing accuracy:  0.6071428571428571\n",
      "Testing batch 15 loss: 0.2941698431968689\n",
      "Testing accuracy:  0.6\n",
      "Testing batch 16 loss: 0.38321566581726074\n",
      "Testing accuracy:  0.59375\n",
      "Testing batch 17 loss: 0.40051358938217163\n",
      "Testing accuracy:  0.5882352941176471\n",
      "Testing batch 18 loss: 0.41319745779037476\n",
      "Testing accuracy:  0.5555555555555556\n",
      "Testing batch 19 loss: 0.3336397111415863\n",
      "Testing accuracy:  0.5526315789473685\n",
      "Testing batch 20 loss: 0.3723047375679016\n",
      "Testing accuracy:  0.525\n",
      "Testing batch 21 loss: 0.3504178822040558\n",
      "Testing accuracy:  0.5238095238095238\n",
      "Testing batch 22 loss: 0.22333607077598572\n",
      "Testing accuracy:  0.5454545454545454\n",
      "Testing batch 23 loss: 0.18332047760486603\n",
      "Testing accuracy:  0.5652173913043478\n",
      "Testing batch 24 loss: 0.38203346729278564\n",
      "Testing accuracy:  0.5625\n",
      "Testing batch 25 loss: 0.3024163246154785\n",
      "Testing accuracy:  0.58\n",
      "Testing batch 26 loss: 0.3270581364631653\n",
      "Testing accuracy:  0.5769230769230769\n",
      "Testing batch 27 loss: 0.3658882975578308\n",
      "Testing accuracy:  0.5555555555555556\n",
      "Testing batch 28 loss: 0.3108269274234772\n",
      "Testing accuracy:  0.5535714285714286\n",
      "Testing batch 29 loss: 0.23171120882034302\n",
      "Testing accuracy:  0.5689655172413793\n",
      "Testing batch 30 loss: 0.35253551602363586\n",
      "Testing accuracy:  0.5666666666666667\n",
      "\n",
      "Testing epoch 1 last loss:  0.35253551602363586\n",
      "Epoch:  2\n"
     ]
    },
    {
     "data": {
      "application/vnd.jupyter.widget-view+json": {
       "model_id": "e417e2ce61e24bf4a6f4fd5498e3fef2",
       "version_major": 2,
       "version_minor": 0
      },
      "text/plain": [
       "0it [00:00, ?it/s]"
      ]
     },
     "metadata": {},
     "output_type": "display_data"
    },
    {
     "name": "stdout",
     "output_type": "stream",
     "text": [
      "\n",
      "Training epoch 2 loss:  0.12803222239017487\n",
      "Testing batch 1 loss: 0.27118226885795593\n",
      "Testing accuracy:  0.5\n",
      "Testing batch 2 loss: 0.20550091564655304\n",
      "Testing accuracy:  0.75\n",
      "Testing batch 3 loss: 0.2530181407928467\n",
      "Testing accuracy:  0.6666666666666666\n",
      "Testing batch 4 loss: 0.4214833974838257\n",
      "Testing accuracy:  0.625\n",
      "Testing batch 5 loss: 0.6599513292312622\n",
      "Testing accuracy:  0.5\n",
      "Testing batch 6 loss: 0.499452143907547\n",
      "Testing accuracy:  0.5\n",
      "Testing batch 7 loss: 0.2641464173793793\n",
      "Testing accuracy:  0.5\n",
      "Testing batch 8 loss: 0.16828963160514832\n",
      "Testing accuracy:  0.5625\n",
      "Testing batch 9 loss: 0.14022141695022583\n",
      "Testing accuracy:  0.6111111111111112\n",
      "Testing batch 10 loss: 0.29820340871810913\n",
      "Testing accuracy:  0.65\n",
      "Testing batch 11 loss: 0.35010895133018494\n",
      "Testing accuracy:  0.6363636363636364\n",
      "Testing batch 12 loss: 0.40451470017433167\n",
      "Testing accuracy:  0.625\n",
      "Testing batch 13 loss: 0.2504422962665558\n",
      "Testing accuracy:  0.6538461538461539\n",
      "Testing batch 14 loss: 0.1891726702451706\n",
      "Testing accuracy:  0.6785714285714286\n",
      "Testing batch 15 loss: 0.29216086864471436\n",
      "Testing accuracy:  0.6666666666666666\n",
      "Testing batch 16 loss: 0.8087460398674011\n",
      "Testing accuracy:  0.625\n",
      "Testing batch 17 loss: 0.412114679813385\n",
      "Testing accuracy:  0.6176470588235294\n",
      "Testing batch 18 loss: 0.18032346665859222\n",
      "Testing accuracy:  0.6388888888888888\n",
      "Testing batch 19 loss: 0.3790197968482971\n",
      "Testing accuracy:  0.631578947368421\n",
      "Testing batch 20 loss: 0.2993495464324951\n",
      "Testing accuracy:  0.625\n",
      "Testing batch 21 loss: 0.370974600315094\n",
      "Testing accuracy:  0.6190476190476191\n",
      "Testing batch 22 loss: 0.4866788685321808\n",
      "Testing accuracy:  0.6136363636363636\n",
      "Testing batch 23 loss: 0.5236592888832092\n",
      "Testing accuracy:  0.5869565217391305\n",
      "Testing batch 24 loss: 0.1432265043258667\n",
      "Testing accuracy:  0.6041666666666666\n",
      "Testing batch 25 loss: 0.2207360863685608\n",
      "Testing accuracy:  0.62\n",
      "Testing batch 26 loss: 0.3147289454936981\n",
      "Testing accuracy:  0.6153846153846154\n",
      "Testing batch 27 loss: 0.3904082179069519\n",
      "Testing accuracy:  0.6111111111111112\n",
      "Testing batch 28 loss: 0.17857050895690918\n",
      "Testing accuracy:  0.625\n",
      "Testing batch 29 loss: 0.39528730511665344\n",
      "Testing accuracy:  0.6206896551724138\n",
      "Testing batch 30 loss: 0.18089653551578522\n",
      "Testing accuracy:  0.6333333333333333\n",
      "\n",
      "Testing epoch 2 last loss:  0.18089653551578522\n",
      "Epoch:  3\n"
     ]
    },
    {
     "data": {
      "application/vnd.jupyter.widget-view+json": {
       "model_id": "334b214c27e9472d9cb310f4c9f3a1a6",
       "version_major": 2,
       "version_minor": 0
      },
      "text/plain": [
       "0it [00:00, ?it/s]"
      ]
     },
     "metadata": {},
     "output_type": "display_data"
    },
    {
     "name": "stdout",
     "output_type": "stream",
     "text": [
      "\n",
      "Training epoch 3 loss:  0.040363069623708725\n",
      "Testing batch 1 loss: 0.7748287916183472\n",
      "Testing accuracy:  0.5\n",
      "Testing batch 2 loss: 0.032601311802864075\n",
      "Testing accuracy:  0.75\n",
      "Testing batch 3 loss: 0.45634421706199646\n",
      "Testing accuracy:  0.6666666666666666\n",
      "Testing batch 4 loss: 0.41449975967407227\n",
      "Testing accuracy:  0.625\n",
      "Testing batch 5 loss: 0.23319190740585327\n",
      "Testing accuracy:  0.6\n",
      "Testing batch 6 loss: 0.1057242676615715\n",
      "Testing accuracy:  0.6666666666666666\n",
      "Testing batch 7 loss: 0.1876138597726822\n",
      "Testing accuracy:  0.7142857142857143\n",
      "Testing batch 8 loss: 0.13964402675628662\n",
      "Testing accuracy:  0.75\n",
      "Testing batch 9 loss: 0.07507424056529999\n",
      "Testing accuracy:  0.7777777777777778\n",
      "Testing batch 10 loss: 0.053340066224336624\n",
      "Testing accuracy:  0.8\n",
      "Testing batch 11 loss: 0.7253049612045288\n",
      "Testing accuracy:  0.7727272727272727\n",
      "Testing batch 12 loss: 0.4323389530181885\n",
      "Testing accuracy:  0.75\n",
      "Testing batch 13 loss: 0.6508691310882568\n",
      "Testing accuracy:  0.7307692307692307\n",
      "Testing batch 14 loss: 0.3111947178840637\n",
      "Testing accuracy:  0.7142857142857143\n",
      "Testing batch 15 loss: 1.0069029331207275\n",
      "Testing accuracy:  0.7\n",
      "Testing batch 16 loss: 0.747873067855835\n",
      "Testing accuracy:  0.65625\n",
      "Testing batch 17 loss: 0.22926083207130432\n",
      "Testing accuracy:  0.6470588235294118\n",
      "Testing batch 18 loss: 0.25989994406700134\n",
      "Testing accuracy:  0.6388888888888888\n",
      "Testing batch 19 loss: 0.26000288128852844\n",
      "Testing accuracy:  0.631578947368421\n",
      "Testing batch 20 loss: 0.23294398188591003\n",
      "Testing accuracy:  0.625\n",
      "Testing batch 21 loss: 0.45554590225219727\n",
      "Testing accuracy:  0.6190476190476191\n",
      "Testing batch 22 loss: 0.3597497045993805\n",
      "Testing accuracy:  0.6136363636363636\n",
      "Testing batch 23 loss: 0.44010037183761597\n",
      "Testing accuracy:  0.6086956521739131\n",
      "Testing batch 24 loss: 0.4788726270198822\n",
      "Testing accuracy:  0.6041666666666666\n",
      "Testing batch 25 loss: 0.48576226830482483\n",
      "Testing accuracy:  0.6\n",
      "Testing batch 26 loss: 0.04189353063702583\n",
      "Testing accuracy:  0.6153846153846154\n",
      "Testing batch 27 loss: 0.40368184447288513\n",
      "Testing accuracy:  0.6111111111111112\n",
      "Testing batch 28 loss: 0.6598279476165771\n",
      "Testing accuracy:  0.5892857142857143\n",
      "Testing batch 29 loss: 0.06151450425386429\n",
      "Testing accuracy:  0.603448275862069\n",
      "Testing batch 30 loss: 0.8469089269638062\n",
      "Testing accuracy:  0.5833333333333334\n",
      "\n",
      "Testing epoch 3 last loss:  0.8469089269638062\n"
     ]
    }
   ],
   "source": [
    "for epoch in range(num_epochs):\n",
    "    print(\"Epoch: \",(epoch + 1))\n",
    "    # TRAINING BLOCK STARTS\n",
    "    bert_model.train()\n",
    "    for i,batch in tqdm(enumerate(train_loader)):    \n",
    "        batch = {k: v.to(device) for k, v in batch.items()}\n",
    "        \n",
    "        # Setting the gradients to zero\n",
    "        optimizer.zero_grad()\n",
    "        \n",
    "        # Passing the data to the model\n",
    "        outputs = bert_model(input_ids = batch['input_ids'], attention_mask = batch['attention_mask'])\n",
    "        \n",
    "        # The logits will be used for measuring the loss\n",
    "        pred = outputs.logits\n",
    "        loss = loss_fn(pred, batch['labels'])\n",
    "\n",
    "        # Calculating the gradient for the loss function\n",
    "        loss.backward()\n",
    "        \n",
    "        # Optimizing the parameters of the bert model\n",
    "        optimizer.step()\n",
    "\n",
    "        # Calculating the running loss for logging purposes\n",
    "        train_batch_loss = loss.item()\n",
    "        train_last_loss = train_batch_loss / batch_size\n",
    "\n",
    "        #print('Training batch {} last loss: {}'.format(i + 1, train_last_loss))\n",
    "    # Logging epoch-wise training loss\n",
    "    print(f\"\\nTraining epoch {epoch + 1} loss: \",train_last_loss)\n",
    "    # TRAINING BLOCK ENDS \n",
    "\n",
    "    # TESTING BLOCK STARTS\n",
    "    bert_model.eval()\n",
    "    correct = 0\n",
    "    test_pred = []\n",
    "    for i, batch in enumerate(test_loader):\n",
    "        batch = {k: v.to(device) for k, v in batch.items()}\n",
    "        \n",
    "        # We don't need gradients for testing\n",
    "        with torch.no_grad():\n",
    "            outputs = bert_model(input_ids = batch['input_ids'], attention_mask = batch['attention_mask'])\n",
    "        \n",
    "        # Logits act as predictions\n",
    "        logits = outputs.logits\n",
    "        \n",
    "        # Calculating total batch loss using the logits and labels\n",
    "        loss = loss_fn(logits, batch['labels'])\n",
    "        test_batch_loss = loss.item()\n",
    "        \n",
    "        # Calculating the mean batch loss\n",
    "        test_last_loss = test_batch_loss / batch_size\n",
    "        print('Testing batch {} loss: {}'.format(i + 1, test_last_loss))\n",
    "        \n",
    "        # Comparing the predicted target with the labels in the batch\n",
    "        correct += (logits.argmax(1) == batch['labels']).sum().item()\n",
    "        print(\"Testing accuracy: \",correct/((i + 1) * batch_size))\n",
    "    \n",
    "    print(f\"\\nTesting epoch {epoch + 1} last loss: \",test_last_loss)\n",
    "    # TESTING BLOCK ENDS"
   ]
  },
  {
   "cell_type": "code",
   "execution_count": null,
   "id": "c1bc777f-9495-4abb-a9a8-0c8e0a08ecf9",
   "metadata": {},
   "outputs": [],
   "source": []
  }
 ],
 "metadata": {
  "kernelspec": {
   "display_name": "Python 3 (ipykernel)",
   "language": "python",
   "name": "python3"
  },
  "language_info": {
   "codemirror_mode": {
    "name": "ipython",
    "version": 3
   },
   "file_extension": ".py",
   "mimetype": "text/x-python",
   "name": "python",
   "nbconvert_exporter": "python",
   "pygments_lexer": "ipython3",
   "version": "3.11.8"
  }
 },
 "nbformat": 4,
 "nbformat_minor": 5
}
